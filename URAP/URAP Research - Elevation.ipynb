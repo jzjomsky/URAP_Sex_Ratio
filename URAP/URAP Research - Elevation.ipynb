{
 "cells": [
  {
   "cell_type": "code",
   "execution_count": 2,
   "metadata": {},
   "outputs": [],
   "source": [
    "# Don't change this cell; just run it. \n",
    "\n",
    "import numpy as np\n",
    "from datascience import *\n",
    "\n",
    "# These lines do some fancy plotting magic.\n",
    "import matplotlib\n",
    "%matplotlib inline\n",
    "import matplotlib.pyplot as plots\n",
    "plots.style.use('fivethirtyeight')\n",
    "import warnings\n",
    "warnings.simplefilter('ignore', FutureWarning)"
   ]
  },
  {
   "cell_type": "code",
   "execution_count": 3,
   "metadata": {},
   "outputs": [],
   "source": [
    "def standard_units(any_numbers):\n",
    "    \"Convert any array of numbers to standard units.\"\n",
    "    return (any_numbers - np.mean(any_numbers))/np.std(any_numbers)  \n",
    "\n",
    "def correlation(t, x, y):\n",
    "    return np.mean(standard_units(t.column(x))*standard_units(t.column(y)))\n",
    "\n",
    "def slope(table, x, y):\n",
    "    r = correlation(table, x, y)\n",
    "    return r * np.std(table.column(y))/np.std(table.column(x))\n",
    "\n",
    "def intercept(table, x, y):\n",
    "    a = slope(table, x, y)\n",
    "    return np.mean(table.column(y)) - a * np.mean(table.column(x))\n",
    "\n",
    "def fit(table, x, y):\n",
    "    a = slope(table, x, y)\n",
    "    b = intercept(table, x, y)\n",
    "    return a * table.column(x) + b\n",
    "\n",
    "def residual(table, x, y):\n",
    "    return table.column(y) - fit(table, x, y)\n",
    "\n",
    "def scatter_fit(table, x, y):\n",
    "    plots.scatter(table.column(x), table.column(y), s=20)\n",
    "    plots.plot(table.column(x), fit(table, x, y), lw=2, color='gold')\n",
    "    plots.xlabel(x)\n",
    "    plots.ylabel(y)"
   ]
  },
  {
   "cell_type": "markdown",
   "metadata": {},
   "source": [
    "## Creating the Tables"
   ]
  },
  {
   "cell_type": "code",
   "execution_count": 60,
   "metadata": {},
   "outputs": [
    {
     "data": {
      "text/html": [
       "<table border=\"1\" class=\"dataframe\">\n",
       "    <thead>\n",
       "        <tr>\n",
       "            <th>site</th> <th>loc</th> <th>lat</th> <th>lon</th> <th>Collector</th> <th>Collection Year</th> <th>sex</th> <th>count</th> <th>elevation</th>\n",
       "        </tr>\n",
       "    </thead>\n",
       "    <tbody>\n",
       "        <tr>\n",
       "            <td>UC1627627 </td> <td>Highway 50, Toiyabe National Forest, NV   </td> <td>39.4333</td> <td>-116.967</td> <td>D. H. Norris           </td> <td>1992           </td> <td>F   </td> <td>4    </td> <td>2069     </td>\n",
       "        </tr>\n",
       "        <tr>\n",
       "            <td>UC1627627 </td> <td>Highway 50, Toiyabe National Forest, NV   </td> <td>39.1042</td> <td>-119.903</td> <td>D. H. Norris           </td> <td>1992           </td> <td>M   </td> <td>0    </td> <td>2069     </td>\n",
       "        </tr>\n",
       "        <tr>\n",
       "            <td>KFCP      </td> <td>Carrizo Plain National Monument, CA       </td> <td>35.1177</td> <td>-119.856</td> <td>K. Fisher              </td> <td>2017           </td> <td>F   </td> <td>6    </td> <td>1077     </td>\n",
       "        </tr>\n",
       "        <tr>\n",
       "            <td>KFCP      </td> <td>Carrizo Plain National Monument, CA       </td> <td>35.1177</td> <td>-119.856</td> <td>K. Fisher              </td> <td>2017           </td> <td>M   </td> <td>3    </td> <td>1077     </td>\n",
       "        </tr>\n",
       "        <tr>\n",
       "            <td>UC1731034 </td> <td>White Pine County, NV                     </td> <td>40.0796</td> <td>-114.079</td> <td>J. Nachlinger          </td> <td>2002           </td> <td>F   </td> <td>5    </td> <td>1696     </td>\n",
       "        </tr>\n",
       "        <tr>\n",
       "            <td>UC1731034 </td> <td>White Pine County, NV                     </td> <td>40.0796</td> <td>-114.079</td> <td>J. Nachlinger          </td> <td>2002           </td> <td>M   </td> <td>0    </td> <td>1696     </td>\n",
       "        </tr>\n",
       "        <tr>\n",
       "            <td>KCMNP     </td> <td>Mojave National Preserve, Cane Spring Area</td> <td>35.2364</td> <td>-115.796</td> <td>K. Fisher              </td> <td>2017           </td> <td>F   </td> <td>34   </td> <td>999      </td>\n",
       "        </tr>\n",
       "        <tr>\n",
       "            <td>KCMNP     </td> <td>Mojave National Preserve, Cane Spring Area</td> <td>35.2364</td> <td>-115.796</td> <td>K. Fisher              </td> <td>2017           </td> <td>M   </td> <td>1    </td> <td>999      </td>\n",
       "        </tr>\n",
       "        <tr>\n",
       "            <td>GMGC      </td> <td>Granite Mountains UC Reserve              </td> <td>34.8077</td> <td>-115.674</td> <td>J. Baughman            </td> <td>2016           </td> <td>F   </td> <td>10   </td> <td>1338     </td>\n",
       "        </tr>\n",
       "        <tr>\n",
       "            <td>GMGC      </td> <td>Granite Mountains UC Reserve              </td> <td>34.8077</td> <td>-115.674</td> <td>J. Baughman            </td> <td>2016           </td> <td>M   </td> <td>0    </td> <td>1338     </td>\n",
       "        </tr>\n",
       "        <tr>\n",
       "            <td>KFIJ      </td> <td>Red Rock, NV                              </td> <td>36.0716</td> <td>-115.468</td> <td>Israel Jimenez         </td> <td>2016           </td> <td>F   </td> <td>16   </td> <td>1274     </td>\n",
       "        </tr>\n",
       "        <tr>\n",
       "            <td>KFIJ      </td> <td>Red Rock, NV                              </td> <td>36.0716</td> <td>-115.468</td> <td>Israel Jimenez         </td> <td>2016           </td> <td>M   </td> <td>2    </td> <td>1274     </td>\n",
       "        </tr>\n",
       "        <tr>\n",
       "            <td>CLARK-1250</td> <td>Sheeps Desert National Wildlife Refuge    </td> <td>36.4353</td> <td>-115.356</td> <td>T. Clark               </td> <td>2017           </td> <td>F   </td> <td>2    </td> <td>895      </td>\n",
       "        </tr>\n",
       "        <tr>\n",
       "            <td>CLARK-1250</td> <td>Sheeps Desert National Wildlife Refuge    </td> <td>36.4353</td> <td>-115.356</td> <td>T. Clark               </td> <td>2017           </td> <td>M   </td> <td>0    </td> <td>895      </td>\n",
       "        </tr>\n",
       "        <tr>\n",
       "            <td>CLARK-1251</td> <td>Sheeps Desert National Wildlife Refuge    </td> <td>36.5197</td> <td>-115.163</td> <td>T. Clark               </td> <td>2017           </td> <td>F   </td> <td>4    </td> <td>1680     </td>\n",
       "        </tr>\n",
       "        <tr>\n",
       "            <td>CLARK-1251</td> <td>Sheeps Desert National Wildlife Refuge    </td> <td>36.5197</td> <td>-115.163</td> <td>T. Clark               </td> <td>2017           </td> <td>M   </td> <td>0    </td> <td>1680     </td>\n",
       "        </tr>\n",
       "        <tr>\n",
       "            <td>TCPJ      </td> <td>Sheeps Desert National Wildlife Refuge    </td> <td>36.5197</td> <td>-115.163</td> <td>J. Baughman            </td> <td>2016           </td> <td>F   </td> <td>8    </td> <td>1680     </td>\n",
       "        </tr>\n",
       "        <tr>\n",
       "            <td>TCPJ      </td> <td>Sheeps Desert National Wildlife Refuge    </td> <td>36.5197</td> <td>-115.163</td> <td>J. Baughman            </td> <td>2016           </td> <td>M   </td> <td>2    </td> <td>1680     </td>\n",
       "        </tr>\n",
       "        <tr>\n",
       "            <td>MOUT      </td> <td>Moab, UT                                  </td> <td>38.5375</td> <td>-109.509</td> <td>J. Baughman            </td> <td>2016           </td> <td>F   </td> <td>19   </td> <td>1361     </td>\n",
       "        </tr>\n",
       "        <tr>\n",
       "            <td>MOUT      </td> <td>Moab, UT                                  </td> <td>38.5375</td> <td>-109.509</td> <td>J. Baughman            </td> <td>2016           </td> <td>M   </td> <td>0    </td> <td>1361     </td>\n",
       "        </tr>\n",
       "        <tr>\n",
       "            <td>UC1767236 </td> <td>Paradox Valley, Montrose County, CO       </td> <td>38.2819</td> <td>-108.806</td> <td>Weber, Wittmann, & Lehr</td> <td>2000           </td> <td>F   </td> <td>3    </td> <td>1592     </td>\n",
       "        </tr>\n",
       "        <tr>\n",
       "            <td>UC1767236 </td> <td>Paradox Valley, Montrose County, CO       </td> <td>38.2819</td> <td>-108.806</td> <td>Weber, Wittmann, & Lehr</td> <td>2000           </td> <td>M   </td> <td>0    </td> <td>1592     </td>\n",
       "        </tr>\n",
       "        <tr>\n",
       "            <td>KCGMGC    </td> <td>Granite Mountains UC Reserve              </td> <td>34.7847</td> <td>-115.663</td> <td>J. Baughman            </td> <td>2018           </td> <td>F   </td> <td>18   </td> <td>1352     </td>\n",
       "        </tr>\n",
       "        <tr>\n",
       "            <td>KCGMGC    </td> <td>Granite Mountains UC Reserve              </td> <td>34.7847</td> <td>-115.663</td> <td>J. Baughman            </td> <td>2018           </td> <td>M   </td> <td>0    </td> <td>1352     </td>\n",
       "        </tr>\n",
       "    </tbody>\n",
       "</table>"
      ],
      "text/plain": [
       "<IPython.core.display.HTML object>"
      ]
     },
     "metadata": {},
     "output_type": "display_data"
    }
   ],
   "source": [
    "sex_ratio_data = Table.read_table(\"sex_ratio_data.csv\")\n",
    "sex_ratio_data.show(24)"
   ]
  },
  {
   "cell_type": "code",
   "execution_count": 5,
   "metadata": {},
   "outputs": [
    {
     "data": {
      "text/html": [
       "<table border=\"1\" class=\"dataframe\">\n",
       "    <thead>\n",
       "        <tr>\n",
       "            <th>elevation</th> <th>sex</th> <th>count</th>\n",
       "        </tr>\n",
       "    </thead>\n",
       "    <tbody>\n",
       "        <tr>\n",
       "            <td>895      </td> <td>F   </td> <td>2    </td>\n",
       "        </tr>\n",
       "        <tr>\n",
       "            <td>999      </td> <td>F   </td> <td>34   </td>\n",
       "        </tr>\n",
       "        <tr>\n",
       "            <td>1077     </td> <td>F   </td> <td>6    </td>\n",
       "        </tr>\n",
       "        <tr>\n",
       "            <td>1274     </td> <td>F   </td> <td>16   </td>\n",
       "        </tr>\n",
       "        <tr>\n",
       "            <td>1338     </td> <td>F   </td> <td>10   </td>\n",
       "        </tr>\n",
       "        <tr>\n",
       "            <td>1352     </td> <td>F   </td> <td>18   </td>\n",
       "        </tr>\n",
       "        <tr>\n",
       "            <td>1361     </td> <td>F   </td> <td>19   </td>\n",
       "        </tr>\n",
       "        <tr>\n",
       "            <td>1592     </td> <td>F   </td> <td>3    </td>\n",
       "        </tr>\n",
       "        <tr>\n",
       "            <td>1680     </td> <td>F   </td> <td>4    </td>\n",
       "        </tr>\n",
       "        <tr>\n",
       "            <td>1680     </td> <td>F   </td> <td>8    </td>\n",
       "        </tr>\n",
       "    </tbody>\n",
       "</table>\n",
       "<p>... (2 rows omitted)</p>"
      ],
      "text/plain": [
       "elevation | sex  | count\n",
       "895       | F    | 2\n",
       "999       | F    | 34\n",
       "1077      | F    | 6\n",
       "1274      | F    | 16\n",
       "1338      | F    | 10\n",
       "1352      | F    | 18\n",
       "1361      | F    | 19\n",
       "1592      | F    | 3\n",
       "1680      | F    | 4\n",
       "1680      | F    | 8\n",
       "... (2 rows omitted)"
      ]
     },
     "execution_count": 5,
     "metadata": {},
     "output_type": "execute_result"
    }
   ],
   "source": [
    "female_elevation = sex_ratio_data.where('sex','F').select('elevation', 'sex', 'count').sort('elevation')\n",
    "female_elevation"
   ]
  },
  {
   "cell_type": "code",
   "execution_count": 6,
   "metadata": {},
   "outputs": [
    {
     "data": {
      "text/html": [
       "<table border=\"1\" class=\"dataframe\">\n",
       "    <thead>\n",
       "        <tr>\n",
       "            <th>elevation</th> <th>sex</th> <th>count</th>\n",
       "        </tr>\n",
       "    </thead>\n",
       "    <tbody>\n",
       "        <tr>\n",
       "            <td>895      </td> <td>M   </td> <td>0    </td>\n",
       "        </tr>\n",
       "        <tr>\n",
       "            <td>999      </td> <td>M   </td> <td>1    </td>\n",
       "        </tr>\n",
       "        <tr>\n",
       "            <td>1077     </td> <td>M   </td> <td>3    </td>\n",
       "        </tr>\n",
       "        <tr>\n",
       "            <td>1274     </td> <td>M   </td> <td>2    </td>\n",
       "        </tr>\n",
       "        <tr>\n",
       "            <td>1338     </td> <td>M   </td> <td>0    </td>\n",
       "        </tr>\n",
       "        <tr>\n",
       "            <td>1352     </td> <td>M   </td> <td>0    </td>\n",
       "        </tr>\n",
       "        <tr>\n",
       "            <td>1361     </td> <td>M   </td> <td>0    </td>\n",
       "        </tr>\n",
       "        <tr>\n",
       "            <td>1592     </td> <td>M   </td> <td>0    </td>\n",
       "        </tr>\n",
       "        <tr>\n",
       "            <td>1680     </td> <td>M   </td> <td>0    </td>\n",
       "        </tr>\n",
       "        <tr>\n",
       "            <td>1680     </td> <td>M   </td> <td>2    </td>\n",
       "        </tr>\n",
       "    </tbody>\n",
       "</table>\n",
       "<p>... (2 rows omitted)</p>"
      ],
      "text/plain": [
       "elevation | sex  | count\n",
       "895       | M    | 0\n",
       "999       | M    | 1\n",
       "1077      | M    | 3\n",
       "1274      | M    | 2\n",
       "1338      | M    | 0\n",
       "1352      | M    | 0\n",
       "1361      | M    | 0\n",
       "1592      | M    | 0\n",
       "1680      | M    | 0\n",
       "1680      | M    | 2\n",
       "... (2 rows omitted)"
      ]
     },
     "execution_count": 6,
     "metadata": {},
     "output_type": "execute_result"
    }
   ],
   "source": [
    "male_elevation = sex_ratio_data.where('sex','M').select('elevation', 'sex', 'count').sort('elevation')\n",
    "male_elevation"
   ]
  },
  {
   "cell_type": "code",
   "execution_count": 7,
   "metadata": {},
   "outputs": [
    {
     "data": {
      "text/html": [
       "<table border=\"1\" class=\"dataframe\">\n",
       "    <thead>\n",
       "        <tr>\n",
       "            <th>elevation</th> <th>sex</th> <th>count</th> <th>sex_2</th> <th>count_2</th>\n",
       "        </tr>\n",
       "    </thead>\n",
       "    <tbody>\n",
       "        <tr>\n",
       "            <td>895      </td> <td>F   </td> <td>2    </td> <td>M    </td> <td>0      </td>\n",
       "        </tr>\n",
       "        <tr>\n",
       "            <td>999      </td> <td>F   </td> <td>34   </td> <td>M    </td> <td>1      </td>\n",
       "        </tr>\n",
       "        <tr>\n",
       "            <td>1077     </td> <td>F   </td> <td>6    </td> <td>M    </td> <td>3      </td>\n",
       "        </tr>\n",
       "        <tr>\n",
       "            <td>1274     </td> <td>F   </td> <td>16   </td> <td>M    </td> <td>2      </td>\n",
       "        </tr>\n",
       "        <tr>\n",
       "            <td>1338     </td> <td>F   </td> <td>10   </td> <td>M    </td> <td>0      </td>\n",
       "        </tr>\n",
       "        <tr>\n",
       "            <td>1352     </td> <td>F   </td> <td>18   </td> <td>M    </td> <td>0      </td>\n",
       "        </tr>\n",
       "        <tr>\n",
       "            <td>1361     </td> <td>F   </td> <td>19   </td> <td>M    </td> <td>0      </td>\n",
       "        </tr>\n",
       "        <tr>\n",
       "            <td>1592     </td> <td>F   </td> <td>3    </td> <td>M    </td> <td>0      </td>\n",
       "        </tr>\n",
       "        <tr>\n",
       "            <td>1680     </td> <td>F   </td> <td>4    </td> <td>M    </td> <td>0      </td>\n",
       "        </tr>\n",
       "        <tr>\n",
       "            <td>1680     </td> <td>F   </td> <td>4    </td> <td>M    </td> <td>2      </td>\n",
       "        </tr>\n",
       "    </tbody>\n",
       "</table>\n",
       "<p>... (4 rows omitted)</p>"
      ],
      "text/plain": [
       "elevation | sex  | count | sex_2 | count_2\n",
       "895       | F    | 2     | M     | 0\n",
       "999       | F    | 34    | M     | 1\n",
       "1077      | F    | 6     | M     | 3\n",
       "1274      | F    | 16    | M     | 2\n",
       "1338      | F    | 10    | M     | 0\n",
       "1352      | F    | 18    | M     | 0\n",
       "1361      | F    | 19    | M     | 0\n",
       "1592      | F    | 3     | M     | 0\n",
       "1680      | F    | 4     | M     | 0\n",
       "1680      | F    | 4     | M     | 2\n",
       "... (4 rows omitted)"
      ]
     },
     "execution_count": 7,
     "metadata": {},
     "output_type": "execute_result"
    }
   ],
   "source": [
    "elevation_count = female_elevation.join('elevation', male_elevation)\n",
    "elevation_count"
   ]
  },
  {
   "cell_type": "markdown",
   "metadata": {},
   "source": [
    "## A Few Visualizations"
   ]
  },
  {
   "cell_type": "code",
   "execution_count": 61,
   "metadata": {},
   "outputs": [
    {
     "data": {
      "text/html": [
       "<table border=\"1\" class=\"dataframe\">\n",
       "    <thead>\n",
       "        <tr>\n",
       "            <th>Elevation</th> <th>Male Count</th> <th>Female Count</th>\n",
       "        </tr>\n",
       "    </thead>\n",
       "    <tbody>\n",
       "        <tr>\n",
       "            <td>895      </td> <td>0         </td> <td>2           </td>\n",
       "        </tr>\n",
       "        <tr>\n",
       "            <td>999      </td> <td>1         </td> <td>34          </td>\n",
       "        </tr>\n",
       "        <tr>\n",
       "            <td>1077     </td> <td>3         </td> <td>6           </td>\n",
       "        </tr>\n",
       "        <tr>\n",
       "            <td>1274     </td> <td>2         </td> <td>16          </td>\n",
       "        </tr>\n",
       "        <tr>\n",
       "            <td>1338     </td> <td>0         </td> <td>10          </td>\n",
       "        </tr>\n",
       "        <tr>\n",
       "            <td>1352     </td> <td>0         </td> <td>18          </td>\n",
       "        </tr>\n",
       "        <tr>\n",
       "            <td>1361     </td> <td>0         </td> <td>19          </td>\n",
       "        </tr>\n",
       "        <tr>\n",
       "            <td>1592     </td> <td>0         </td> <td>3           </td>\n",
       "        </tr>\n",
       "        <tr>\n",
       "            <td>1680     </td> <td>0         </td> <td>4           </td>\n",
       "        </tr>\n",
       "        <tr>\n",
       "            <td>1680     </td> <td>2         </td> <td>4           </td>\n",
       "        </tr>\n",
       "    </tbody>\n",
       "</table>\n",
       "<p>... (4 rows omitted)</p>"
      ],
      "text/plain": [
       "Elevation | Male Count | Female Count\n",
       "895       | 0          | 2\n",
       "999       | 1          | 34\n",
       "1077      | 3          | 6\n",
       "1274      | 2          | 16\n",
       "1338      | 0          | 10\n",
       "1352      | 0          | 18\n",
       "1361      | 0          | 19\n",
       "1592      | 0          | 3\n",
       "1680      | 0          | 4\n",
       "1680      | 2          | 4\n",
       "... (4 rows omitted)"
      ]
     },
     "execution_count": 61,
     "metadata": {},
     "output_type": "execute_result"
    }
   ],
   "source": [
    "to_graph = Table().with_columns('Elevation',elevation_count.column('elevation'), \n",
    "                                'Male Count', elevation_count.column('count_2'),\n",
    "                                'Female Count', elevation_count.column('count') )\n",
    "to_graph"
   ]
  },
  {
   "cell_type": "code",
   "execution_count": 62,
   "metadata": {},
   "outputs": [
    {
     "data": {
      "image/png": "[encoded data removed]",
      "text/plain": [
       "<Figure size 432x504 with 1 Axes>"
      ]
     },
     "metadata": {},
     "output_type": "display_data"
    }
   ],
   "source": [
    "to_graph.barh('Elevation')"
   ]
  },
  {
   "cell_type": "code",
   "execution_count": 10,
   "metadata": {},
   "outputs": [
    {
     "data": {
      "image/png": "[encoded data removed]",
      "text/plain": [
       "<Figure size 360x360 with 1 Axes>"
      ]
     },
     "metadata": {},
     "output_type": "display_data"
    }
   ],
   "source": [
    "to_graph.scatter(\"Elevation\")"
   ]
  },
  {
   "cell_type": "code",
   "execution_count": 11,
   "metadata": {},
   "outputs": [
    {
     "data": {
      "image/png": "[encoded data removed]",
      "text/plain": [
       "<Figure size 360x360 with 1 Axes>"
      ]
     },
     "metadata": {},
     "output_type": "display_data"
    }
   ],
   "source": [
    "to_graph.scatter('Female Count','Male Count')"
   ]
  },
  {
   "cell_type": "code",
   "execution_count": 12,
   "metadata": {},
   "outputs": [
    {
     "data": {
      "text/plain": [
       "(None, -0.012372326213366185)"
      ]
     },
     "execution_count": 12,
     "metadata": {},
     "output_type": "execute_result"
    },
    {
     "data": {
      "image/png": "[encoded data removed]",
      "text/plain": [
       "<Figure size 432x288 with 1 Axes>"
      ]
     },
     "metadata": {},
     "output_type": "display_data"
    }
   ],
   "source": [
    "scatter_fit(to_graph, 'Elevation', 'Female Count'), slope(to_graph, 'Elevation', 'Female Count')"
   ]
  },
  {
   "cell_type": "code",
   "execution_count": 13,
   "metadata": {},
   "outputs": [
    {
     "data": {
      "text/plain": [
       "(None, -0.0007602026348505881)"
      ]
     },
     "execution_count": 13,
     "metadata": {},
     "output_type": "execute_result"
    },
    {
     "data": {
      "image/png": "[encoded data removed]",
      "text/plain": [
       "<Figure size 432x288 with 1 Axes>"
      ]
     },
     "metadata": {},
     "output_type": "display_data"
    }
   ],
   "source": [
    "scatter_fit(to_graph, 'Elevation', 'Male Count'), slope(to_graph, 'Elevation', 'Male Count')"
   ]
  },
  {
   "cell_type": "markdown",
   "metadata": {},
   "source": [
    "## Bootstrapping "
   ]
  },
  {
   "cell_type": "code",
   "execution_count": 14,
   "metadata": {
    "scrolled": true
   },
   "outputs": [
    {
     "data": {
      "image/png": "[encoded data removed]",
      "text/plain": [
       "<IPython.core.display.Image object>"
      ]
     },
     "execution_count": 14,
     "metadata": {
      "image/png": {
       "height": 600,
       "width": 600
      }
     },
     "output_type": "execute_result"
    }
   ],
   "source": [
    "from IPython.display import Image\n",
    "url = 'https://www.statisticshowto.datasciencecentral.com/wp-content/uploads/2016/10/bootstrap-sample.png'\n",
    "Image(url,width=600, height=600)"
   ]
  },
  {
   "cell_type": "code",
   "execution_count": 15,
   "metadata": {},
   "outputs": [
    {
     "data": {
      "text/html": [
       "<table border=\"1\" class=\"dataframe\">\n",
       "    <thead>\n",
       "        <tr>\n",
       "            <th>elevation</th> <th>sex</th> <th>count</th>\n",
       "        </tr>\n",
       "    </thead>\n",
       "    <tbody>\n",
       "        <tr>\n",
       "            <td>999      </td> <td>F   </td> <td>34   </td>\n",
       "        </tr>\n",
       "        <tr>\n",
       "            <td>1680     </td> <td>F   </td> <td>8    </td>\n",
       "        </tr>\n",
       "        <tr>\n",
       "            <td>1077     </td> <td>F   </td> <td>6    </td>\n",
       "        </tr>\n",
       "        <tr>\n",
       "            <td>1352     </td> <td>F   </td> <td>18   </td>\n",
       "        </tr>\n",
       "        <tr>\n",
       "            <td>1680     </td> <td>F   </td> <td>4    </td>\n",
       "        </tr>\n",
       "        <tr>\n",
       "            <td>1592     </td> <td>F   </td> <td>3    </td>\n",
       "        </tr>\n",
       "        <tr>\n",
       "            <td>1696     </td> <td>F   </td> <td>5    </td>\n",
       "        </tr>\n",
       "        <tr>\n",
       "            <td>1338     </td> <td>F   </td> <td>10   </td>\n",
       "        </tr>\n",
       "        <tr>\n",
       "            <td>1361     </td> <td>F   </td> <td>19   </td>\n",
       "        </tr>\n",
       "        <tr>\n",
       "            <td>895      </td> <td>F   </td> <td>2    </td>\n",
       "        </tr>\n",
       "    </tbody>\n",
       "</table>\n",
       "<p>... (2 rows omitted)</p>"
      ],
      "text/plain": [
       "elevation | sex  | count\n",
       "999       | F    | 34\n",
       "1680      | F    | 8\n",
       "1077      | F    | 6\n",
       "1352      | F    | 18\n",
       "1680      | F    | 4\n",
       "1592      | F    | 3\n",
       "1696      | F    | 5\n",
       "1338      | F    | 10\n",
       "1361      | F    | 19\n",
       "895       | F    | 2\n",
       "... (2 rows omitted)"
      ]
     },
     "execution_count": 15,
     "metadata": {},
     "output_type": "execute_result"
    }
   ],
   "source": [
    "female_elevation.sample(with_replacement=False)"
   ]
  },
  {
   "cell_type": "code",
   "execution_count": 16,
   "metadata": {},
   "outputs": [
    {
     "data": {
      "text/plain": [
       "<matplotlib.collections.PathCollection at 0x7fae5a191128>"
      ]
     },
     "execution_count": 16,
     "metadata": {},
     "output_type": "execute_result"
    },
    {
     "data": {
      "image/png": "[encoded data removed]",
      "text/plain": [
       "<Figure size 432x288 with 1 Axes>"
      ]
     },
     "metadata": {},
     "output_type": "display_data"
    }
   ],
   "source": [
    "slopes = make_array()\n",
    "for i in np.arange(5000):\n",
    "    bootstrap_sample = female_elevation.sample()\n",
    "    bootstrap_slope = slope(bootstrap_sample, 'elevation', 'count')\n",
    "    slopes = np.append(slopes, bootstrap_slope)\n",
    "Table().with_column('Bootstrap Slopes', slopes).hist()\n",
    "plots.scatter(-0.012372326213366185, 0, color='red', s=30) # Our observed slope"
   ]
  },
  {
   "cell_type": "code",
   "execution_count": 17,
   "metadata": {},
   "outputs": [
    {
     "data": {
      "text/plain": [
       "(-0.03515413146627481, 0.0036362802348558405)"
      ]
     },
     "execution_count": 17,
     "metadata": {},
     "output_type": "execute_result"
    }
   ],
   "source": [
    "left = percentile(2.5, slopes)\n",
    "right = percentile(97.5, slopes)\n",
    "left, right"
   ]
  },
  {
   "cell_type": "markdown",
   "metadata": {},
   "source": [
    "Above is a **95% confidence interval** for slope of line in female sex elevation data. If observed test statistic is outside, we can reject null that any differences between test data and new collected data is due to chance\n",
    "Male data was impossible to use *efficiently* with so many zeroes."
   ]
  },
  {
   "cell_type": "markdown",
   "metadata": {},
   "source": [
    "## Permutation Test"
   ]
  },
  {
   "cell_type": "markdown",
   "metadata": {},
   "source": [
    "**From Wikipedia:** a permutation test (also called a randomization test, re-randomization test, or an exact test) is a type of statistical significance test in which the distribution of the test statistic under the null hypothesis is obtained by calculating all possible values of the test statistic under rearrangements of the labels on the observed data points. "
   ]
  },
  {
   "cell_type": "code",
   "execution_count": 18,
   "metadata": {},
   "outputs": [
    {
     "data": {
      "text/html": [
       "<table border=\"1\" class=\"dataframe\">\n",
       "    <thead>\n",
       "        <tr>\n",
       "            <th>elevation</th> <th>count</th>\n",
       "        </tr>\n",
       "    </thead>\n",
       "    <tbody>\n",
       "        <tr>\n",
       "            <td>895      </td> <td>2    </td>\n",
       "        </tr>\n",
       "        <tr>\n",
       "            <td>999      </td> <td>34   </td>\n",
       "        </tr>\n",
       "        <tr>\n",
       "            <td>1077     </td> <td>6    </td>\n",
       "        </tr>\n",
       "        <tr>\n",
       "            <td>1274     </td> <td>16   </td>\n",
       "        </tr>\n",
       "        <tr>\n",
       "            <td>1338     </td> <td>10   </td>\n",
       "        </tr>\n",
       "        <tr>\n",
       "            <td>1352     </td> <td>18   </td>\n",
       "        </tr>\n",
       "        <tr>\n",
       "            <td>1361     </td> <td>19   </td>\n",
       "        </tr>\n",
       "        <tr>\n",
       "            <td>1592     </td> <td>3    </td>\n",
       "        </tr>\n",
       "        <tr>\n",
       "            <td>1680     </td> <td>4    </td>\n",
       "        </tr>\n",
       "        <tr>\n",
       "            <td>1680     </td> <td>8    </td>\n",
       "        </tr>\n",
       "    </tbody>\n",
       "</table>\n",
       "<p>... (2 rows omitted)</p>"
      ],
      "text/plain": [
       "elevation | count\n",
       "895       | 2\n",
       "999       | 34\n",
       "1077      | 6\n",
       "1274      | 16\n",
       "1338      | 10\n",
       "1352      | 18\n",
       "1361      | 19\n",
       "1592      | 3\n",
       "1680      | 4\n",
       "1680      | 8\n",
       "... (2 rows omitted)"
      ]
     },
     "execution_count": 18,
     "metadata": {},
     "output_type": "execute_result"
    }
   ],
   "source": [
    "female_elevation = female_elevation.drop('sex')\n",
    "female_elevation"
   ]
  },
  {
   "cell_type": "code",
   "execution_count": 19,
   "metadata": {},
   "outputs": [
    {
     "data": {
      "text/plain": [
       "array([ 3,  2, 10, 19,  8, 18,  4,  5,  6,  4, 34, 16])"
      ]
     },
     "execution_count": 19,
     "metadata": {},
     "output_type": "execute_result"
    }
   ],
   "source": [
    "mixed_up_count = female_elevation.sample(with_replacement=False).column('count')\n",
    "mixed_up_count"
   ]
  },
  {
   "cell_type": "code",
   "execution_count": 20,
   "metadata": {},
   "outputs": [
    {
     "data": {
      "text/html": [
       "<table border=\"1\" class=\"dataframe\">\n",
       "    <thead>\n",
       "        <tr>\n",
       "            <th>elevation</th> <th>mixed up count</th>\n",
       "        </tr>\n",
       "    </thead>\n",
       "    <tbody>\n",
       "        <tr>\n",
       "            <td>895      </td> <td>3             </td>\n",
       "        </tr>\n",
       "        <tr>\n",
       "            <td>999      </td> <td>2             </td>\n",
       "        </tr>\n",
       "        <tr>\n",
       "            <td>1077     </td> <td>10            </td>\n",
       "        </tr>\n",
       "        <tr>\n",
       "            <td>1274     </td> <td>19            </td>\n",
       "        </tr>\n",
       "        <tr>\n",
       "            <td>1338     </td> <td>8             </td>\n",
       "        </tr>\n",
       "        <tr>\n",
       "            <td>1352     </td> <td>18            </td>\n",
       "        </tr>\n",
       "        <tr>\n",
       "            <td>1361     </td> <td>4             </td>\n",
       "        </tr>\n",
       "        <tr>\n",
       "            <td>1592     </td> <td>5             </td>\n",
       "        </tr>\n",
       "        <tr>\n",
       "            <td>1680     </td> <td>6             </td>\n",
       "        </tr>\n",
       "        <tr>\n",
       "            <td>1680     </td> <td>4             </td>\n",
       "        </tr>\n",
       "    </tbody>\n",
       "</table>\n",
       "<p>... (2 rows omitted)</p>"
      ],
      "text/plain": [
       "elevation | mixed up count\n",
       "895       | 3\n",
       "999       | 2\n",
       "1077      | 10\n",
       "1274      | 19\n",
       "1338      | 8\n",
       "1352      | 18\n",
       "1361      | 4\n",
       "1592      | 5\n",
       "1680      | 6\n",
       "1680      | 4\n",
       "... (2 rows omitted)"
      ]
     },
     "execution_count": 20,
     "metadata": {},
     "output_type": "execute_result"
    }
   ],
   "source": [
    "mixed_up_female_elevation = female_elevation.drop('count').with_column('mixed up count',mixed_up_count).drop('sex')\n",
    "mixed_up_female_elevation"
   ]
  },
  {
   "cell_type": "code",
   "execution_count": 21,
   "metadata": {},
   "outputs": [
    {
     "data": {
      "text/html": [
       "<table border=\"1\" class=\"dataframe\">\n",
       "    <thead>\n",
       "        <tr>\n",
       "            <th>elevation</th> <th>count</th> <th>mixed up count</th>\n",
       "        </tr>\n",
       "    </thead>\n",
       "    <tbody>\n",
       "        <tr>\n",
       "            <td>895      </td> <td>2    </td> <td>3             </td>\n",
       "        </tr>\n",
       "        <tr>\n",
       "            <td>999      </td> <td>34   </td> <td>2             </td>\n",
       "        </tr>\n",
       "        <tr>\n",
       "            <td>1077     </td> <td>6    </td> <td>10            </td>\n",
       "        </tr>\n",
       "        <tr>\n",
       "            <td>1274     </td> <td>16   </td> <td>19            </td>\n",
       "        </tr>\n",
       "        <tr>\n",
       "            <td>1338     </td> <td>10   </td> <td>8             </td>\n",
       "        </tr>\n",
       "        <tr>\n",
       "            <td>1352     </td> <td>18   </td> <td>18            </td>\n",
       "        </tr>\n",
       "        <tr>\n",
       "            <td>1361     </td> <td>19   </td> <td>4             </td>\n",
       "        </tr>\n",
       "        <tr>\n",
       "            <td>1592     </td> <td>3    </td> <td>5             </td>\n",
       "        </tr>\n",
       "        <tr>\n",
       "            <td>1680     </td> <td>4    </td> <td>6             </td>\n",
       "        </tr>\n",
       "        <tr>\n",
       "            <td>1680     </td> <td>4    </td> <td>4             </td>\n",
       "        </tr>\n",
       "    </tbody>\n",
       "</table>\n",
       "<p>... (4 rows omitted)</p>"
      ],
      "text/plain": [
       "elevation | count | mixed up count\n",
       "895       | 2     | 3\n",
       "999       | 34    | 2\n",
       "1077      | 6     | 10\n",
       "1274      | 16    | 19\n",
       "1338      | 10    | 8\n",
       "1352      | 18    | 18\n",
       "1361      | 19    | 4\n",
       "1592      | 3     | 5\n",
       "1680      | 4     | 6\n",
       "1680      | 4     | 4\n",
       "... (4 rows omitted)"
      ]
     },
     "execution_count": 21,
     "metadata": {},
     "output_type": "execute_result"
    }
   ],
   "source": [
    "permutation_graph = female_elevation.join('elevation', mixed_up_female_elevation)\n",
    "permutation_graph"
   ]
  },
  {
   "cell_type": "code",
   "execution_count": 22,
   "metadata": {},
   "outputs": [
    {
     "data": {
      "image/png": "[encoded data removed]",
      "text/plain": [
       "<Figure size 360x360 with 1 Axes>"
      ]
     },
     "metadata": {},
     "output_type": "display_data"
    }
   ],
   "source": [
    "permutation_graph.scatter('elevation')"
   ]
  },
  {
   "cell_type": "code",
   "execution_count": 23,
   "metadata": {},
   "outputs": [
    {
     "data": {
      "text/plain": [
       "(-0.012372326213366185, 0.007353072605842044)"
      ]
     },
     "execution_count": 23,
     "metadata": {},
     "output_type": "execute_result"
    }
   ],
   "source": [
    "slope(permutation_graph, 'elevation', 'count'), slope(permutation_graph, 'elevation', 'mixed up count')"
   ]
  },
  {
   "cell_type": "code",
   "execution_count": 72,
   "metadata": {},
   "outputs": [],
   "source": [
    "##mixed_up_diffs = make_array()\n",
    "mixed_up_slopes = make_array()\n",
    "observed_statistic = slope(permutation_graph, 'elevation', 'count')\n",
    "\n",
    "for i in np.arange(10000):\n",
    "    tbl = female_elevation \n",
    "    mixing_up_count = tbl.sample(with_replacement=False).column('count')\n",
    "    mixing_up_female_elevation = tbl.drop('count').with_column('mixed up count',mixing_up_count)\n",
    "    mixed_up_slope = slope(mixing_up_female_elevation, 'elevation', 'mixed up count')\n",
    "    mixed_up_slopes = np.append(mixed_up_slopes, mixed_up_slope)\n",
    "    ##mixed_up_diff = abs(mixed_up_slope - observed_statistic)\n",
    "    ##mixed_up_diffs = np.append(mixed_up_diffs, mixed_up_diff)\n",
    "hist_of_slopes= Table().with_column('Simulated Differences', mixed_up_slopes)"
   ]
  },
  {
   "cell_type": "code",
   "execution_count": 73,
   "metadata": {},
   "outputs": [
    {
     "data": {
      "text/plain": [
       "<matplotlib.collections.PathCollection at 0x7fae597d2da0>"
      ]
     },
     "execution_count": 73,
     "metadata": {},
     "output_type": "execute_result"
    },
    {
     "data": {
      "image/png": "[encoded data removed]",
      "text/plain": [
       "<Figure size 432x288 with 1 Axes>"
      ]
     },
     "metadata": {},
     "output_type": "display_data"
    }
   ],
   "source": [
    "hist_of_slopes.hist(bins=100)\n",
    "observed_statistic = slope(permutation_graph, 'elevation', 'count')\n",
    "plots.scatter(observed_statistic, 0, color='red', s=30)"
   ]
  },
  {
   "cell_type": "code",
   "execution_count": 74,
   "metadata": {},
   "outputs": [
    {
     "data": {
      "text/plain": [
       "0.0692"
      ]
     },
     "execution_count": 74,
     "metadata": {},
     "output_type": "execute_result"
    }
   ],
   "source": [
    "p_value = np.count_nonzero( mixed_up_slopes <= observed_statistic ) / 10000\n",
    "p_value"
   ]
  },
  {
   "cell_type": "markdown",
   "metadata": {},
   "source": [
    "### If we mix up all the counts of females at each elevation 10,000 times, our observed slope is almost unusual. (This indicates that elevation might play a role in sex determination in mosses.\n",
    "Definitely need a larger sample size though..."
   ]
  },
  {
   "cell_type": "markdown",
   "metadata": {},
   "source": [
    "### Proportions"
   ]
  },
  {
   "cell_type": "code",
   "execution_count": 50,
   "metadata": {
    "scrolled": true
   },
   "outputs": [
    {
     "data": {
      "text/html": [
       "<table border=\"1\" class=\"dataframe\">\n",
       "    <thead>\n",
       "        <tr>\n",
       "            <th>site</th> <th>loc</th> <th>lat</th> <th>lon</th> <th>Collector</th> <th>Collection Year</th> <th>sex</th> <th>count</th> <th>elevation</th>\n",
       "        </tr>\n",
       "    </thead>\n",
       "    <tbody>\n",
       "        <tr>\n",
       "            <td>CLARK-1250</td> <td>Sheeps Desert National Wildlife Refuge    </td> <td>36.4353</td> <td>-115.356</td> <td>T. Clark      </td> <td>2017           </td> <td>F   </td> <td>2    </td> <td>895      </td>\n",
       "        </tr>\n",
       "        <tr>\n",
       "            <td>CLARK-1250</td> <td>Sheeps Desert National Wildlife Refuge    </td> <td>36.4353</td> <td>-115.356</td> <td>T. Clark      </td> <td>2017           </td> <td>M   </td> <td>0    </td> <td>895      </td>\n",
       "        </tr>\n",
       "        <tr>\n",
       "            <td>KCMNP     </td> <td>Mojave National Preserve, Cane Spring Area</td> <td>35.2364</td> <td>-115.796</td> <td>K. Fisher     </td> <td>2017           </td> <td>F   </td> <td>34   </td> <td>999      </td>\n",
       "        </tr>\n",
       "        <tr>\n",
       "            <td>KCMNP     </td> <td>Mojave National Preserve, Cane Spring Area</td> <td>35.2364</td> <td>-115.796</td> <td>K. Fisher     </td> <td>2017           </td> <td>M   </td> <td>1    </td> <td>999      </td>\n",
       "        </tr>\n",
       "        <tr>\n",
       "            <td>KFCP      </td> <td>Carrizo Plain National Monument, CA       </td> <td>35.1177</td> <td>-119.856</td> <td>K. Fisher     </td> <td>2017           </td> <td>F   </td> <td>6    </td> <td>1077     </td>\n",
       "        </tr>\n",
       "        <tr>\n",
       "            <td>KFCP      </td> <td>Carrizo Plain National Monument, CA       </td> <td>35.1177</td> <td>-119.856</td> <td>K. Fisher     </td> <td>2017           </td> <td>M   </td> <td>3    </td> <td>1077     </td>\n",
       "        </tr>\n",
       "        <tr>\n",
       "            <td>KFIJ      </td> <td>Red Rock, NV                              </td> <td>36.0716</td> <td>-115.468</td> <td>Israel Jimenez</td> <td>2016           </td> <td>F   </td> <td>16   </td> <td>1274     </td>\n",
       "        </tr>\n",
       "        <tr>\n",
       "            <td>KFIJ      </td> <td>Red Rock, NV                              </td> <td>36.0716</td> <td>-115.468</td> <td>Israel Jimenez</td> <td>2016           </td> <td>M   </td> <td>2    </td> <td>1274     </td>\n",
       "        </tr>\n",
       "        <tr>\n",
       "            <td>GMGC      </td> <td>Granite Mountains UC Reserve              </td> <td>34.8077</td> <td>-115.674</td> <td>J. Baughman   </td> <td>2016           </td> <td>F   </td> <td>10   </td> <td>1338     </td>\n",
       "        </tr>\n",
       "        <tr>\n",
       "            <td>GMGC      </td> <td>Granite Mountains UC Reserve              </td> <td>34.8077</td> <td>-115.674</td> <td>J. Baughman   </td> <td>2016           </td> <td>M   </td> <td>0    </td> <td>1338     </td>\n",
       "        </tr>\n",
       "    </tbody>\n",
       "</table>\n",
       "<p>... (14 rows omitted)</p>"
      ],
      "text/plain": [
       "site       | loc                                        | lat     | lon      | Collector      | Collection Year | sex  | count | elevation\n",
       "CLARK-1250 | Sheeps Desert National Wildlife Refuge     | 36.4353 | -115.356 | T. Clark       | 2017            | F    | 2     | 895\n",
       "CLARK-1250 | Sheeps Desert National Wildlife Refuge     | 36.4353 | -115.356 | T. Clark       | 2017            | M    | 0     | 895\n",
       "KCMNP      | Mojave National Preserve, Cane Spring Area | 35.2364 | -115.796 | K. Fisher      | 2017            | F    | 34    | 999\n",
       "KCMNP      | Mojave National Preserve, Cane Spring Area | 35.2364 | -115.796 | K. Fisher      | 2017            | M    | 1     | 999\n",
       "KFCP       | Carrizo Plain National Monument, CA        | 35.1177 | -119.856 | K. Fisher      | 2017            | F    | 6     | 1077\n",
       "KFCP       | Carrizo Plain National Monument, CA        | 35.1177 | -119.856 | K. Fisher      | 2017            | M    | 3     | 1077\n",
       "KFIJ       | Red Rock, NV                               | 36.0716 | -115.468 | Israel Jimenez | 2016            | F    | 16    | 1274\n",
       "KFIJ       | Red Rock, NV                               | 36.0716 | -115.468 | Israel Jimenez | 2016            | M    | 2     | 1274\n",
       "GMGC       | Granite Mountains UC Reserve               | 34.8077 | -115.674 | J. Baughman    | 2016            | F    | 10    | 1338\n",
       "GMGC       | Granite Mountains UC Reserve               | 34.8077 | -115.674 | J. Baughman    | 2016            | M    | 0     | 1338\n",
       "... (14 rows omitted)"
      ]
     },
     "execution_count": 50,
     "metadata": {},
     "output_type": "execute_result"
    }
   ],
   "source": [
    "sex_ratio_data = sex_ratio_data.sort('elevation')\n",
    "sex_ratio_data"
   ]
  },
  {
   "cell_type": "code",
   "execution_count": 28,
   "metadata": {},
   "outputs": [
    {
     "data": {
      "text/plain": [
       "12"
      ]
     },
     "execution_count": 28,
     "metadata": {},
     "output_type": "execute_result"
    }
   ],
   "source": [
    "female_count = sex_ratio_data.where('sex', 'F').column('count')\n",
    "len(female_count)"
   ]
  },
  {
   "cell_type": "code",
   "execution_count": 29,
   "metadata": {},
   "outputs": [
    {
     "data": {
      "text/plain": [
       "12"
      ]
     },
     "execution_count": 29,
     "metadata": {},
     "output_type": "execute_result"
    }
   ],
   "source": [
    "male_count = sex_ratio_data.where('sex', 'M').column('count')\n",
    "len(male_count)"
   ]
  },
  {
   "cell_type": "code",
   "execution_count": 30,
   "metadata": {
    "scrolled": true
   },
   "outputs": [
    {
     "data": {
      "text/plain": [
       "12"
      ]
     },
     "execution_count": 30,
     "metadata": {},
     "output_type": "execute_result"
    }
   ],
   "source": [
    "proportions = [f/(m+f) for f,m in zip(list(female_count), list(male_count))]\n",
    "len(proportions)"
   ]
  },
  {
   "cell_type": "code",
   "execution_count": 51,
   "metadata": {},
   "outputs": [
    {
     "data": {
      "text/plain": [
       "array([ 895.,  999., 1077., 1274., 1338., 1352., 1361., 1592., 1680.,\n",
       "       1680., 1696., 2069.])"
      ]
     },
     "execution_count": 51,
     "metadata": {},
     "output_type": "execute_result"
    }
   ],
   "source": [
    "dirty_elevations = sex_ratio_data.column('elevation')\n",
    "elevation_data = make_array()\n",
    "for elem in dirty_elevations:\n",
    "    if elem not in elevation_data:\n",
    "        elevation_data = np.append(elevation_data, elem)\n",
    "elevation_datum_1680 = np.append(elevation_data, 1680)\n",
    "elevation_data = Table().with_column('0',elevation_datum_1680).sort(0).column(0)\n",
    "elevation_data"
   ]
  },
  {
   "cell_type": "code",
   "execution_count": 52,
   "metadata": {
    "scrolled": true
   },
   "outputs": [
    {
     "data": {
      "text/html": [
       "<table border=\"1\" class=\"dataframe\">\n",
       "    <thead>\n",
       "        <tr>\n",
       "            <th>Elevation</th> <th>Female Count</th> <th>Male Count</th> <th>Female Proportions</th>\n",
       "        </tr>\n",
       "    </thead>\n",
       "    <tbody>\n",
       "        <tr>\n",
       "            <td>895      </td> <td>2           </td> <td>0         </td> <td>1                 </td>\n",
       "        </tr>\n",
       "        <tr>\n",
       "            <td>999      </td> <td>34          </td> <td>1         </td> <td>0.971429          </td>\n",
       "        </tr>\n",
       "        <tr>\n",
       "            <td>1077     </td> <td>6           </td> <td>3         </td> <td>0.666667          </td>\n",
       "        </tr>\n",
       "        <tr>\n",
       "            <td>1274     </td> <td>16          </td> <td>2         </td> <td>0.888889          </td>\n",
       "        </tr>\n",
       "        <tr>\n",
       "            <td>1338     </td> <td>10          </td> <td>0         </td> <td>1                 </td>\n",
       "        </tr>\n",
       "        <tr>\n",
       "            <td>1352     </td> <td>18          </td> <td>0         </td> <td>1                 </td>\n",
       "        </tr>\n",
       "        <tr>\n",
       "            <td>1361     </td> <td>19          </td> <td>0         </td> <td>1                 </td>\n",
       "        </tr>\n",
       "        <tr>\n",
       "            <td>1592     </td> <td>3           </td> <td>0         </td> <td>1                 </td>\n",
       "        </tr>\n",
       "        <tr>\n",
       "            <td>1680     </td> <td>4           </td> <td>0         </td> <td>1                 </td>\n",
       "        </tr>\n",
       "        <tr>\n",
       "            <td>1680     </td> <td>8           </td> <td>2         </td> <td>0.8               </td>\n",
       "        </tr>\n",
       "    </tbody>\n",
       "</table>\n",
       "<p>... (2 rows omitted)</p>"
      ],
      "text/plain": [
       "Elevation | Female Count | Male Count | Female Proportions\n",
       "895       | 2            | 0          | 1\n",
       "999       | 34           | 1          | 0.971429\n",
       "1077      | 6            | 3          | 0.666667\n",
       "1274      | 16           | 2          | 0.888889\n",
       "1338      | 10           | 0          | 1\n",
       "1352      | 18           | 0          | 1\n",
       "1361      | 19           | 0          | 1\n",
       "1592      | 3            | 0          | 1\n",
       "1680      | 4            | 0          | 1\n",
       "1680      | 8            | 2          | 0.8\n",
       "... (2 rows omitted)"
      ]
     },
     "execution_count": 52,
     "metadata": {},
     "output_type": "execute_result"
    }
   ],
   "source": [
    "sex_ratios = Table().with_column('Elevation', elevation_data, 'Female Count', female_count, 'Male Count', male_count, 'Female Proportions', proportions)\n",
    "sex_ratios"
   ]
  },
  {
   "cell_type": "code",
   "execution_count": 53,
   "metadata": {},
   "outputs": [
    {
     "data": {
      "text/plain": [
       "[0.0,\n",
       " 0.02857142857142858,\n",
       " 0.33333333333333337,\n",
       " 0.11111111111111116,\n",
       " 0.0,\n",
       " 0.0,\n",
       " 0.0,\n",
       " 0.0,\n",
       " 0.0,\n",
       " 0.19999999999999996,\n",
       " 0.0,\n",
       " 0.0]"
      ]
     },
     "execution_count": 53,
     "metadata": {},
     "output_type": "execute_result"
    }
   ],
   "source": [
    "male_proportions = [1-elem for elem in proportions]\n",
    "male_proportions"
   ]
  },
  {
   "cell_type": "code",
   "execution_count": 54,
   "metadata": {},
   "outputs": [
    {
     "data": {
      "text/html": [
       "<table border=\"1\" class=\"dataframe\">\n",
       "    <thead>\n",
       "        <tr>\n",
       "            <th>Elevation</th> <th>Female Count</th> <th>Male Count</th> <th>Female Proportions</th> <th>Male Proportions</th>\n",
       "        </tr>\n",
       "    </thead>\n",
       "    <tbody>\n",
       "        <tr>\n",
       "            <td>895      </td> <td>2           </td> <td>0         </td> <td>1                 </td> <td>0               </td>\n",
       "        </tr>\n",
       "        <tr>\n",
       "            <td>999      </td> <td>34          </td> <td>1         </td> <td>0.971429          </td> <td>0.0285714       </td>\n",
       "        </tr>\n",
       "        <tr>\n",
       "            <td>1077     </td> <td>6           </td> <td>3         </td> <td>0.666667          </td> <td>0.333333        </td>\n",
       "        </tr>\n",
       "        <tr>\n",
       "            <td>1274     </td> <td>16          </td> <td>2         </td> <td>0.888889          </td> <td>0.111111        </td>\n",
       "        </tr>\n",
       "        <tr>\n",
       "            <td>1338     </td> <td>10          </td> <td>0         </td> <td>1                 </td> <td>0               </td>\n",
       "        </tr>\n",
       "        <tr>\n",
       "            <td>1352     </td> <td>18          </td> <td>0         </td> <td>1                 </td> <td>0               </td>\n",
       "        </tr>\n",
       "        <tr>\n",
       "            <td>1361     </td> <td>19          </td> <td>0         </td> <td>1                 </td> <td>0               </td>\n",
       "        </tr>\n",
       "        <tr>\n",
       "            <td>1592     </td> <td>3           </td> <td>0         </td> <td>1                 </td> <td>0               </td>\n",
       "        </tr>\n",
       "        <tr>\n",
       "            <td>1680     </td> <td>4           </td> <td>0         </td> <td>1                 </td> <td>0               </td>\n",
       "        </tr>\n",
       "        <tr>\n",
       "            <td>1680     </td> <td>8           </td> <td>2         </td> <td>0.8               </td> <td>0.2             </td>\n",
       "        </tr>\n",
       "        <tr>\n",
       "            <td>1696     </td> <td>5           </td> <td>0         </td> <td>1                 </td> <td>0               </td>\n",
       "        </tr>\n",
       "        <tr>\n",
       "            <td>2069     </td> <td>4           </td> <td>0         </td> <td>1                 </td> <td>0               </td>\n",
       "        </tr>\n",
       "    </tbody>\n",
       "</table>"
      ],
      "text/plain": [
       "<IPython.core.display.HTML object>"
      ]
     },
     "metadata": {},
     "output_type": "display_data"
    }
   ],
   "source": [
    "sex_ratios = sex_ratios.with_column('Male Proportions', male_proportions)\n",
    "sex_ratios.show(12)"
   ]
  },
  {
   "cell_type": "code",
   "execution_count": 55,
   "metadata": {},
   "outputs": [
    {
     "data": {
      "text/plain": [
       "[0.9439153439153439, 0.05608465608465609]"
      ]
     },
     "execution_count": 55,
     "metadata": {},
     "output_type": "execute_result"
    }
   ],
   "source": [
    "model_propotions = [np.average(sex_ratios.column('Female Proportions')), np.average(sex_ratios.column('Male Proportions'))]\n",
    "model_propotions"
   ]
  },
  {
   "cell_type": "code",
   "execution_count": 59,
   "metadata": {},
   "outputs": [
    {
     "data": {
      "image/png": "[encoded data removed]",
      "text/plain": [
       "<Figure size 432x288 with 1 Axes>"
      ]
     },
     "metadata": {},
     "output_type": "display_data"
    }
   ],
   "source": [
    "simulated_proportions = make_array()\n",
    "sample_size = sex_ratios.num_rows #really small sample size so not great conclusions - can make this higher to make it better\n",
    "repetitions = 10000\n",
    "\n",
    "for i in np.arange(repetitions):\n",
    "    simulated_proportion = sample_proportions(sample_size, model_propotions).item(0)\n",
    "    simulated_proportions = np.append(simulated_proportions, simulated_proportion)\n",
    "\n",
    "Table().with_column('Simulated Proportions', simulated_proportions).hist(bins=np.arange(0.7,1.0,0.1))"
   ]
  }
 ],
 "metadata": {
  "kernelspec": {
   "display_name": "Python 3",
   "language": "python",
   "name": "python3"
  },
  "language_info": {
   "codemirror_mode": {
    "name": "ipython",
    "version": 3
   },
   "file_extension": ".py",
   "mimetype": "text/x-python",
   "name": "python",
   "nbconvert_exporter": "python",
   "pygments_lexer": "ipython3",
   "version": "3.6.7"
  }
 },
 "nbformat": 4,
 "nbformat_minor": 2
}
