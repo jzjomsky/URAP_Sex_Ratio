{
 "cells": [
  {
   "cell_type": "code",
   "execution_count": 1,
   "metadata": {},
   "outputs": [],
   "source": [
    "import numpy as np\n",
    "from datascience import *\n",
    "import math as m\n",
    "import qgrid as q\n",
    "import pandas as pd\n",
    "from scipy.stats import chi2_contingency\n",
    "\n",
    "import matplotlib\n",
    "%matplotlib inline\n",
    "import matplotlib.pyplot as plots\n",
    "plots.style.use('fivethirtyeight')\n",
    "import warnings\n",
    "warnings.simplefilter('ignore', FutureWarning)\n",
    "\n",
    "def standard_units(any_numbers):\n",
    "    \"Convert any array of numbers to standard units.\"\n",
    "    return (any_numbers - np.mean(any_numbers))/np.std(any_numbers)  \n",
    "\n",
    "def correlation(t, x, y):\n",
    "    return np.mean(standard_units(t.column(x))*standard_units(t.column(y)))\n",
    "\n",
    "def slope(table, x, y):\n",
    "    r = correlation(table, x, y)\n",
    "    return r * np.std(table.column(y))/np.std(table.column(x))\n",
    "\n",
    "def intercept(table, x, y):\n",
    "    a = slope(table, x, y)\n",
    "    return np.mean(table.column(y)) - a * np.mean(table.column(x))\n",
    "\n",
    "def fit(table, x, y):\n",
    "    a = slope(table, x, y)\n",
    "    b = intercept(table, x, y)\n",
    "    return a * table.column(x) + b\n",
    "\n",
    "def residual(table, x, y):\n",
    "    return table.column(y) - fit(table, x, y)\n",
    "\n",
    "def scatter_fit(table, x, y):\n",
    "    plots.scatter(table.column(x), table.column(y), s=20)\n",
    "    plots.plot(table.column(x), fit(table, x, y), lw=2, color='gold')\n",
    "    plots.xlabel(x)\n",
    "    plots.ylabel(y)\n",
    "\n",
    "def nan_sum(arr):\n",
    "    sum = 0\n",
    "    for elem in arr:\n",
    "        if not math.isnan(elem):\n",
    "            sum += elem"
   ]
  },
  {
   "cell_type": "markdown",
   "metadata": {},
   "source": [
    "***Data Cleaning***"
   ]
  },
  {
   "cell_type": "code",
   "execution_count": 2,
   "metadata": {},
   "outputs": [
    {
     "data": {
      "application/vnd.jupyter.widget-view+json": {
       "model_id": "447c598faa694734aa5a10128f96128e",
       "version_major": 2,
       "version_minor": 0
      },
      "text/plain": [
       "QgridWidget(grid_options={'fullWidthRows': True, 'syncColumnCellResize': True, 'forceFitColumns': True, 'defau…"
      ]
     },
     "metadata": {},
     "output_type": "display_data"
    }
   ],
   "source": [
    "original_data = Table.read_table(\"community_RR_csv.csv\");\n",
    "q.show_grid(original_data.to_df())"
   ]
  },
  {
   "cell_type": "code",
   "execution_count": 3,
   "metadata": {},
   "outputs": [
    {
     "data": {
      "text/html": [
       "<table border=\"1\" class=\"dataframe\">\n",
       "    <thead>\n",
       "        <tr>\n",
       "            <th>Coordinates</th> <th>Exposure of S. caninervis</th> <th>Number of S. caninervis sporophytes</th> <th>Stem height</th> <th>Stem height:  exposed</th> <th>Stem height: shaded</th> <th>Number of inflorescences</th> <th>No. Infl. per expressing ramet: exposed</th> <th>No. Infl. per expressing ramet: shaded</th> <th>Sex (M,F,S)</th> <th>Stem height sorted</th> <th>No.  inflor by sorted st ht</th> <th>No.  inflor sorted</th> <th>St ht sorted by no. infl</th> <th>Syntrichia caninervis cover</th> <th>Syntrichia ruralis cover</th> <th>Bryum algovicum cover</th> <th>Bryum argenteum cover</th> <th>Pterogoneurum spp. cover</th> <th>Grimmia cover</th> <th>Unknown sp. cover</th> <th>Total bryophyte cover</th> <th>Total lichen cover</th> <th>Total cryptogam cover</th> <th>Unnamed: 24</th> <th>Unnamed: 25</th>\n",
       "        </tr>\n",
       "    </thead>\n",
       "    <tbody>\n",
       "        <tr>\n",
       "            <td>T1 30      </td> <td>I                        </td> <td>0                                  </td> <td>2.9        </td> <td>2                    </td> <td>2.9                </td> <td>0                       </td> <td>1                                      </td> <td>1                                     </td> <td>S          </td> <td>0.5               </td> <td>0                          </td> <td>0                 </td> <td>0.5                     </td> <td>5%                         </td> <td>0%                      </td> <td>0%                   </td> <td>0%                   </td> <td>0%                      </td> <td>0%           </td> <td>0%               </td> <td>5.00%                </td> <td>0%                </td> <td>5%                   </td> <td>nan        </td> <td>nan        </td>\n",
       "        </tr>\n",
       "        <tr>\n",
       "            <td>T1 30      </td> <td>I                        </td> <td>nan                                </td> <td>1.7        </td> <td>2.6                  </td> <td>1.7                </td> <td>0                       </td> <td>1                                      </td> <td>1                                     </td> <td>S          </td> <td>0.5               </td> <td>0                          </td> <td>0                 </td> <td>0.5                     </td> <td>nan                        </td> <td>nan                     </td> <td>nan                  </td> <td>nan                  </td> <td>nan                     </td> <td>nan          </td> <td>nan              </td> <td>nan                  </td> <td>nan               </td> <td>nan                  </td> <td>nan        </td> <td>nan        </td>\n",
       "        </tr>\n",
       "        <tr>\n",
       "            <td>T1 30      </td> <td>I                        </td> <td>nan                                </td> <td>1.5        </td> <td>1.9                  </td> <td>1.5                </td> <td>0                       </td> <td>1                                      </td> <td>1                                     </td> <td>S          </td> <td>0.5               </td> <td>0                          </td> <td>0                 </td> <td>0.5                     </td> <td>nan                        </td> <td>nan                     </td> <td>nan                  </td> <td>nan                  </td> <td>nan                     </td> <td>nan          </td> <td>nan              </td> <td>nan                  </td> <td>nan               </td> <td>nan                  </td> <td>nan        </td> <td>nan        </td>\n",
       "        </tr>\n",
       "        <tr>\n",
       "            <td>T1 30      </td> <td>I                        </td> <td>nan                                </td> <td>2          </td> <td>2.2                  </td> <td>2                  </td> <td>0                       </td> <td>1                                      </td> <td>1                                     </td> <td>S          </td> <td>0.5               </td> <td>0                          </td> <td>0                 </td> <td>0.5                     </td> <td>nan                        </td> <td>nan                     </td> <td>nan                  </td> <td>nan                  </td> <td>nan                     </td> <td>nan          </td> <td>nan              </td> <td>nan                  </td> <td>nan               </td> <td>nan                  </td> <td>nan        </td> <td>nan        </td>\n",
       "        </tr>\n",
       "        <tr>\n",
       "            <td>T1 30      </td> <td>I                        </td> <td>nan                                </td> <td>2.9        </td> <td>1.9                  </td> <td>2.9                </td> <td>0                       </td> <td>1                                      </td> <td>1                                     </td> <td>S          </td> <td>0.6               </td> <td>0                          </td> <td>0                 </td> <td>0.6                     </td> <td>nan                        </td> <td>nan                     </td> <td>nan                  </td> <td>nan                  </td> <td>nan                     </td> <td>nan          </td> <td>nan              </td> <td>nan                  </td> <td>nan               </td> <td>nan                  </td> <td>nan        </td> <td>nan        </td>\n",
       "        </tr>\n",
       "        <tr>\n",
       "            <td>T1 30      </td> <td>I                        </td> <td>nan                                </td> <td>3.1        </td> <td>2                    </td> <td>3.1                </td> <td>1                       </td> <td>2                                      </td> <td>1                                     </td> <td>F          </td> <td>0.6               </td> <td>0                          </td> <td>0                 </td> <td>0.6                     </td> <td>nan                        </td> <td>nan                     </td> <td>nan                  </td> <td>nan                  </td> <td>nan                     </td> <td>nan          </td> <td>nan              </td> <td>nan                  </td> <td>nan               </td> <td>nan                  </td> <td>nan        </td> <td>nan        </td>\n",
       "        </tr>\n",
       "        <tr>\n",
       "            <td>T1 30      </td> <td>I                        </td> <td>nan                                </td> <td>2.1        </td> <td>2.3                  </td> <td>2.1                </td> <td>0                       </td> <td>1                                      </td> <td>1                                     </td> <td>S          </td> <td>0.6               </td> <td>0                          </td> <td>0                 </td> <td>0.6                     </td> <td>nan                        </td> <td>nan                     </td> <td>nan                  </td> <td>nan                  </td> <td>nan                     </td> <td>nan          </td> <td>nan              </td> <td>nan                  </td> <td>nan               </td> <td>nan                  </td> <td>nan        </td> <td>nan        </td>\n",
       "        </tr>\n",
       "        <tr>\n",
       "            <td>T1 30      </td> <td>I                        </td> <td>nan                                </td> <td>2.8        </td> <td>1.2                  </td> <td>2.8                </td> <td>0                       </td> <td>2                                      </td> <td>2                                     </td> <td>S          </td> <td>0.6               </td> <td>0                          </td> <td>0                 </td> <td>0.6                     </td> <td>nan                        </td> <td>nan                     </td> <td>nan                  </td> <td>nan                  </td> <td>nan                     </td> <td>nan          </td> <td>nan              </td> <td>nan                  </td> <td>nan               </td> <td>nan                  </td> <td>nan        </td> <td>nan        </td>\n",
       "        </tr>\n",
       "        <tr>\n",
       "            <td>T1 30      </td> <td>I                        </td> <td>nan                                </td> <td>2          </td> <td>1.8                  </td> <td>2                  </td> <td>0                       </td> <td>1                                      </td> <td>1                                     </td> <td>S          </td> <td>0.6               </td> <td>0                          </td> <td>0                 </td> <td>0.6                     </td> <td>nan                        </td> <td>nan                     </td> <td>nan                  </td> <td>nan                  </td> <td>nan                     </td> <td>nan          </td> <td>nan              </td> <td>nan                  </td> <td>nan               </td> <td>nan                  </td> <td>nan        </td> <td>nan        </td>\n",
       "        </tr>\n",
       "        <tr>\n",
       "            <td>T1 30      </td> <td>I                        </td> <td>nan                                </td> <td>2          </td> <td>1.9                  </td> <td>2                  </td> <td>0                       </td> <td>2                                      </td> <td>1                                     </td> <td>S          </td> <td>0.6               </td> <td>0                          </td> <td>0                 </td> <td>0.6                     </td> <td>nan                        </td> <td>nan                     </td> <td>nan                  </td> <td>nan                  </td> <td>nan                     </td> <td>nan          </td> <td>nan              </td> <td>nan                  </td> <td>nan               </td> <td>nan                  </td> <td>nan        </td> <td>nan        </td>\n",
       "        </tr>\n",
       "    </tbody>\n",
       "</table>\n",
       "<p>... (880 rows omitted)</p>"
      ],
      "text/plain": [
       "Coordinates | Exposure of S. caninervis | Number of S. caninervis sporophytes | Stem height | Stem height:  exposed | Stem height: shaded | Number of inflorescences | No. Infl. per expressing ramet: exposed | No. Infl. per expressing ramet: shaded | Sex (M,F,S) | Stem height sorted | No.  inflor by sorted st ht | No.  inflor sorted | St ht sorted by no. infl | Syntrichia caninervis cover | Syntrichia ruralis cover | Bryum algovicum cover | Bryum argenteum cover | Pterogoneurum spp. cover | Grimmia cover | Unknown sp. cover | Total bryophyte cover | Total lichen cover | Total cryptogam cover | Unnamed: 24 | Unnamed: 25\n",
       "T1 30       | I                         | 0                                   | 2.9         | 2                     | 2.9                 | 0                        | 1                                       | 1                                      | S           | 0.5                | 0                           | 0                  | 0.5                      | 5%                          | 0%                       | 0%                    | 0%                    | 0%                       | 0%            | 0%                | 5.00%                 | 0%                 | 5%                    | nan         | nan\n",
       "T1 30       | I                         | nan                                 | 1.7         | 2.6                   | 1.7                 | 0                        | 1                                       | 1                                      | S           | 0.5                | 0                           | 0                  | 0.5                      | nan                         | nan                      | nan                   | nan                   | nan                      | nan           | nan               | nan                   | nan                | nan                   | nan         | nan\n",
       "T1 30       | I                         | nan                                 | 1.5         | 1.9                   | 1.5                 | 0                        | 1                                       | 1                                      | S           | 0.5                | 0                           | 0                  | 0.5                      | nan                         | nan                      | nan                   | nan                   | nan                      | nan           | nan               | nan                   | nan                | nan                   | nan         | nan\n",
       "T1 30       | I                         | nan                                 | 2           | 2.2                   | 2                   | 0                        | 1                                       | 1                                      | S           | 0.5                | 0                           | 0                  | 0.5                      | nan                         | nan                      | nan                   | nan                   | nan                      | nan           | nan               | nan                   | nan                | nan                   | nan         | nan\n",
       "T1 30       | I                         | nan                                 | 2.9         | 1.9                   | 2.9                 | 0                        | 1                                       | 1                                      | S           | 0.6                | 0                           | 0                  | 0.6                      | nan                         | nan                      | nan                   | nan                   | nan                      | nan           | nan               | nan                   | nan                | nan                   | nan         | nan\n",
       "T1 30       | I                         | nan                                 | 3.1         | 2                     | 3.1                 | 1                        | 2                                       | 1                                      | F           | 0.6                | 0                           | 0                  | 0.6                      | nan                         | nan                      | nan                   | nan                   | nan                      | nan           | nan               | nan                   | nan                | nan                   | nan         | nan\n",
       "T1 30       | I                         | nan                                 | 2.1         | 2.3                   | 2.1                 | 0                        | 1                                       | 1                                      | S           | 0.6                | 0                           | 0                  | 0.6                      | nan                         | nan                      | nan                   | nan                   | nan                      | nan           | nan               | nan                   | nan                | nan                   | nan         | nan\n",
       "T1 30       | I                         | nan                                 | 2.8         | 1.2                   | 2.8                 | 0                        | 2                                       | 2                                      | S           | 0.6                | 0                           | 0                  | 0.6                      | nan                         | nan                      | nan                   | nan                   | nan                      | nan           | nan               | nan                   | nan                | nan                   | nan         | nan\n",
       "T1 30       | I                         | nan                                 | 2           | 1.8                   | 2                   | 0                        | 1                                       | 1                                      | S           | 0.6                | 0                           | 0                  | 0.6                      | nan                         | nan                      | nan                   | nan                   | nan                      | nan           | nan               | nan                   | nan                | nan                   | nan         | nan\n",
       "T1 30       | I                         | nan                                 | 2           | 1.9                   | 2                   | 0                        | 2                                       | 1                                      | S           | 0.6                | 0                           | 0                  | 0.6                      | nan                         | nan                      | nan                   | nan                   | nan                      | nan           | nan               | nan                   | nan                | nan                   | nan         | nan\n",
       "... (880 rows omitted)"
      ]
     },
     "execution_count": 3,
     "metadata": {},
     "output_type": "execute_result"
    }
   ],
   "source": [
    "original_data_caninervis = original_data.where(\"Syntrichia caninervis cover\", are.not_equal_to(\"0%\"))\n",
    "original_data_caninervis"
   ]
  },
  {
   "cell_type": "code",
   "execution_count": 4,
   "metadata": {
    "scrolled": true
   },
   "outputs": [
    {
     "data": {
      "text/html": [
       "<table border=\"1\" class=\"dataframe\">\n",
       "    <thead>\n",
       "        <tr>\n",
       "            <th>Coordinates</th> <th>Exposure of S. caninervis</th> <th>Stem height</th> <th>Number of inflorescences</th> <th>Sex (M,F,S)</th>\n",
       "        </tr>\n",
       "    </thead>\n",
       "    <tbody>\n",
       "        <tr>\n",
       "            <td>T1 30      </td> <td>I                        </td> <td>2.9        </td> <td>0                       </td> <td>S          </td>\n",
       "        </tr>\n",
       "        <tr>\n",
       "            <td>T1 30      </td> <td>I                        </td> <td>1.7        </td> <td>0                       </td> <td>S          </td>\n",
       "        </tr>\n",
       "        <tr>\n",
       "            <td>T1 30      </td> <td>I                        </td> <td>1.5        </td> <td>0                       </td> <td>S          </td>\n",
       "        </tr>\n",
       "        <tr>\n",
       "            <td>T1 30      </td> <td>I                        </td> <td>2          </td> <td>0                       </td> <td>S          </td>\n",
       "        </tr>\n",
       "        <tr>\n",
       "            <td>T1 30      </td> <td>I                        </td> <td>2.9        </td> <td>0                       </td> <td>S          </td>\n",
       "        </tr>\n",
       "        <tr>\n",
       "            <td>T1 30      </td> <td>I                        </td> <td>3.1        </td> <td>1                       </td> <td>F          </td>\n",
       "        </tr>\n",
       "        <tr>\n",
       "            <td>T1 30      </td> <td>I                        </td> <td>2.1        </td> <td>0                       </td> <td>S          </td>\n",
       "        </tr>\n",
       "        <tr>\n",
       "            <td>T1 30      </td> <td>I                        </td> <td>2.8        </td> <td>0                       </td> <td>S          </td>\n",
       "        </tr>\n",
       "        <tr>\n",
       "            <td>T1 30      </td> <td>I                        </td> <td>2          </td> <td>0                       </td> <td>S          </td>\n",
       "        </tr>\n",
       "        <tr>\n",
       "            <td>T1 30      </td> <td>I                        </td> <td>2          </td> <td>0                       </td> <td>S          </td>\n",
       "        </tr>\n",
       "    </tbody>\n",
       "</table>\n",
       "<p>... (880 rows omitted)</p>"
      ],
      "text/plain": [
       "Coordinates | Exposure of S. caninervis | Stem height | Number of inflorescences | Sex (M,F,S)\n",
       "T1 30       | I                         | 2.9         | 0                        | S\n",
       "T1 30       | I                         | 1.7         | 0                        | S\n",
       "T1 30       | I                         | 1.5         | 0                        | S\n",
       "T1 30       | I                         | 2           | 0                        | S\n",
       "T1 30       | I                         | 2.9         | 0                        | S\n",
       "T1 30       | I                         | 3.1         | 1                        | F\n",
       "T1 30       | I                         | 2.1         | 0                        | S\n",
       "T1 30       | I                         | 2.8         | 0                        | S\n",
       "T1 30       | I                         | 2           | 0                        | S\n",
       "T1 30       | I                         | 2           | 0                        | S\n",
       "... (880 rows omitted)"
      ]
     },
     "execution_count": 4,
     "metadata": {},
     "output_type": "execute_result"
    }
   ],
   "source": [
    "small_data = original_data_caninervis.drop(2,4,5,7,8,10,11,12,13,14,15,16,17,18,19,20,21,22,23,24,25)\n",
    "small_data"
   ]
  },
  {
   "cell_type": "markdown",
   "metadata": {},
   "source": [
    "***Making Bowker Table 2***"
   ]
  },
  {
   "cell_type": "code",
   "execution_count": 5,
   "metadata": {},
   "outputs": [],
   "source": [
    "def my_round(num):\n",
    "    return round(num, 3)"
   ]
  },
  {
   "cell_type": "code",
   "execution_count": 6,
   "metadata": {},
   "outputs": [],
   "source": [
    "# Gets unique value of a column in a table and return an array\n",
    "def unique_values(table, column_name):\n",
    "    return table.select(column_name).group(column_name).column(column_name)"
   ]
  },
  {
   "cell_type": "code",
   "execution_count": 7,
   "metadata": {},
   "outputs": [],
   "source": [
    "# Calculates a number of ramets that meet a given value in S. caninervis\n",
    "# that parameter is table given is filtered by sex\n",
    "def number_of_ramets(table, ramet, column, condition, that=False):\n",
    "    if that == True:\n",
    "        return table.where('Coordinates', ramet).where(column, condition).group(0).num_rows\n",
    "    return table.where('Coordinates', ramet).where(column, condition).num_rows"
   ]
  },
  {
   "cell_type": "code",
   "execution_count": 8,
   "metadata": {},
   "outputs": [
    {
     "data": {
      "text/plain": [
       "array([  9, 128, 137])"
      ]
     },
     "execution_count": 8,
     "metadata": {},
     "output_type": "execute_result"
    }
   ],
   "source": [
    "def table2_column1(table):\n",
    "    female_count = 0\n",
    "    male_count = 0\n",
    "    for ramet in unique_values(table, 'Coordinates'):\n",
    "        female_count += number_of_ramets(table, ramet, 'Sex (M,F,S)', 'F')\n",
    "        male_count += number_of_ramets(table, ramet, 'Sex (M,F,S)', 'M')\n",
    "    return make_array(male_count, female_count, female_count + male_count)\n",
    "table2_column1(small_data)"
   ]
  },
  {
   "cell_type": "code",
   "execution_count": 9,
   "metadata": {},
   "outputs": [
    {
     "data": {
      "text/plain": [
       "array([ 3, 41, 44])"
      ]
     },
     "execution_count": 9,
     "metadata": {},
     "output_type": "execute_result"
    }
   ],
   "source": [
    "def table2_column2(table):   \n",
    "    male_infloresence = 0\n",
    "    female_infloresence = 0\n",
    "    for ramet in unique_values(table, 'Coordinates'):  \n",
    "        female_infloresence += number_of_ramets(table.where('Sex (M,F,S)', 'F'), ramet, 'Number of inflorescences', are.above(0), that=True)\n",
    "        male_infloresence += number_of_ramets(table.where('Sex (M,F,S)', 'M'), ramet, 'Number of inflorescences', are.above(0), that=True)\n",
    "    return make_array(male_infloresence, female_infloresence, male_infloresence + female_infloresence)\n",
    "table2_column2(small_data)"
   ]
  },
  {
   "cell_type": "code",
   "execution_count": 10,
   "metadata": {},
   "outputs": [
    {
     "data": {
      "text/plain": [
       "array([1.   , 1.195, 1.182])"
      ]
     },
     "execution_count": 10,
     "metadata": {},
     "output_type": "execute_result"
    }
   ],
   "source": [
    "def table2_column3(table):\n",
    "    m_table = table.where('Sex (M,F,S)', 'M').where('Number of inflorescences', are.above(0))\n",
    "    f_table = table.where('Sex (M,F,S)', 'F').where('Number of inflorescences', are.above(0))\n",
    "    male_sum_infloresence = sum(m_table.column('Number of inflorescences'))\n",
    "    female_sum_infloresence = sum(f_table.column('Number of inflorescences'))\n",
    "    num_ramets = table2_column1(table)\n",
    "    m_avg = my_round(male_sum_infloresence/num_ramets.item(0))\n",
    "    f_avg = my_round(female_sum_infloresence/num_ramets.item(1))\n",
    "    t_avg = my_round((male_sum_infloresence + female_sum_infloresence) / num_ramets.item(2))\n",
    "    return make_array(m_avg, f_avg, t_avg)\n",
    "table2_column3(small_data)"
   ]
  },
  {
   "cell_type": "code",
   "execution_count": 11,
   "metadata": {},
   "outputs": [
    {
     "data": {
      "text/plain": [
       "array([0.   , 0.164, 0.153])"
      ]
     },
     "execution_count": 11,
     "metadata": {},
     "output_type": "execute_result"
    }
   ],
   "source": [
    "def table2_column4(table):\n",
    "    m_more_than_1 = table.where('Sex (M,F,S)', 'M').where('Number of inflorescences', are.above(1)).num_rows\n",
    "    f_more_than_1 = table.where('Sex (M,F,S)', 'F').where('Number of inflorescences', are.above(1)).num_rows\n",
    "    num_ramets = table2_column1(table)\n",
    "    m_prop = my_round(m_more_than_1 / num_ramets.item(0))\n",
    "    f_prop = my_round(f_more_than_1 / num_ramets.item(1))\n",
    "    t_prop = my_round((m_more_than_1 + f_more_than_1) / num_ramets.item(2))\n",
    "    return make_array(m_prop, f_prop, t_prop)\n",
    "table2_column4(small_data)"
   ]
  },
  {
   "cell_type": "code",
   "execution_count": 12,
   "metadata": {},
   "outputs": [
    {
     "data": {
      "text/html": [
       "<table border=\"1\" class=\"dataframe\">\n",
       "    <thead>\n",
       "        <tr>\n",
       "            <th>Sex</th> <th>No. ramets expressing sex in life span</th> <th>No. ramets currently expressing sex</th> <th>No. inflorescences per ramet</th> <th>Proportion of ramets with >1 inflorescence</th>\n",
       "        </tr>\n",
       "    </thead>\n",
       "    <tbody>\n",
       "        <tr>\n",
       "            <td>Male  </td> <td>9                                     </td> <td>3                                  </td> <td>1                           </td> <td>0                                         </td>\n",
       "        </tr>\n",
       "        <tr>\n",
       "            <td>Female</td> <td>128                                   </td> <td>41                                 </td> <td>1.195                       </td> <td>0.164                                     </td>\n",
       "        </tr>\n",
       "        <tr>\n",
       "            <td>Total </td> <td>137                                   </td> <td>44                                 </td> <td>1.182                       </td> <td>0.153                                     </td>\n",
       "        </tr>\n",
       "    </tbody>\n",
       "</table>"
      ],
      "text/plain": [
       "Sex    | No. ramets expressing sex in life span | No. ramets currently expressing sex | No. inflorescences per ramet | Proportion of ramets with >1 inflorescence\n",
       "Male   | 9                                      | 3                                   | 1                            | 0\n",
       "Female | 128                                    | 41                                  | 1.195                        | 0.164\n",
       "Total  | 137                                    | 44                                  | 1.182                        | 0.153"
      ]
     },
     "execution_count": 12,
     "metadata": {},
     "output_type": "execute_result"
    }
   ],
   "source": [
    "def table2(table):\n",
    "    column1 = table2_column1(table)\n",
    "    column2 = table2_column2(table)\n",
    "    column3 = table2_column3(table)\n",
    "    column4 = table2_column4(table)\n",
    "    rtn_table = Table().with_column('Sex', ['Male', 'Female', 'Total'])\n",
    "    rtn_table = rtn_table.with_columns('No. ramets expressing sex in life span', column1,\n",
    "                               'No. ramets currently expressing sex', column2,\n",
    "                               'No. inflorescences per ramet', column3,\n",
    "                               'Proportion of ramets with >1 inflorescence', column4)\n",
    "    return rtn_table\n",
    "table2(small_data)"
   ]
  },
  {
   "cell_type": "markdown",
   "metadata": {},
   "source": [
    "***Making Bowker Table 3***"
   ]
  },
  {
   "cell_type": "code",
   "execution_count": 13,
   "metadata": {},
   "outputs": [
    {
     "data": {
      "text/html": [
       "<table border=\"1\" class=\"dataframe\">\n",
       "    <thead>\n",
       "        <tr>\n",
       "            <th>Coordinates</th> <th>Exposure of S. caninervis</th> <th>Stem height</th> <th>Number of inflorescences</th> <th>Sex (M,F,S)</th>\n",
       "        </tr>\n",
       "    </thead>\n",
       "    <tbody>\n",
       "        <tr>\n",
       "            <td>T1 30      </td> <td>I                        </td> <td>2.9        </td> <td>0                       </td> <td>S          </td>\n",
       "        </tr>\n",
       "        <tr>\n",
       "            <td>T1 30      </td> <td>I                        </td> <td>1.7        </td> <td>0                       </td> <td>S          </td>\n",
       "        </tr>\n",
       "        <tr>\n",
       "            <td>T1 30      </td> <td>I                        </td> <td>1.5        </td> <td>0                       </td> <td>S          </td>\n",
       "        </tr>\n",
       "        <tr>\n",
       "            <td>T1 30      </td> <td>I                        </td> <td>2          </td> <td>0                       </td> <td>S          </td>\n",
       "        </tr>\n",
       "        <tr>\n",
       "            <td>T1 30      </td> <td>I                        </td> <td>2.9        </td> <td>0                       </td> <td>S          </td>\n",
       "        </tr>\n",
       "        <tr>\n",
       "            <td>T1 30      </td> <td>I                        </td> <td>3.1        </td> <td>1                       </td> <td>F          </td>\n",
       "        </tr>\n",
       "        <tr>\n",
       "            <td>T1 30      </td> <td>I                        </td> <td>2.1        </td> <td>0                       </td> <td>S          </td>\n",
       "        </tr>\n",
       "        <tr>\n",
       "            <td>T1 30      </td> <td>I                        </td> <td>2.8        </td> <td>0                       </td> <td>S          </td>\n",
       "        </tr>\n",
       "        <tr>\n",
       "            <td>T1 30      </td> <td>I                        </td> <td>2          </td> <td>0                       </td> <td>S          </td>\n",
       "        </tr>\n",
       "        <tr>\n",
       "            <td>T1 30      </td> <td>I                        </td> <td>2          </td> <td>0                       </td> <td>S          </td>\n",
       "        </tr>\n",
       "    </tbody>\n",
       "</table>\n",
       "<p>... (880 rows omitted)</p>"
      ],
      "text/plain": [
       "Coordinates | Exposure of S. caninervis | Stem height | Number of inflorescences | Sex (M,F,S)\n",
       "T1 30       | I                         | 2.9         | 0                        | S\n",
       "T1 30       | I                         | 1.7         | 0                        | S\n",
       "T1 30       | I                         | 1.5         | 0                        | S\n",
       "T1 30       | I                         | 2           | 0                        | S\n",
       "T1 30       | I                         | 2.9         | 0                        | S\n",
       "T1 30       | I                         | 3.1         | 1                        | F\n",
       "T1 30       | I                         | 2.1         | 0                        | S\n",
       "T1 30       | I                         | 2.8         | 0                        | S\n",
       "T1 30       | I                         | 2           | 0                        | S\n",
       "T1 30       | I                         | 2           | 0                        | S\n",
       "... (880 rows omitted)"
      ]
     },
     "execution_count": 13,
     "metadata": {},
     "output_type": "execute_result"
    }
   ],
   "source": [
    "small_data"
   ]
  },
  {
   "cell_type": "code",
   "execution_count": 14,
   "metadata": {},
   "outputs": [
    {
     "data": {
      "text/plain": [
       "1.9042696629213482"
      ]
     },
     "execution_count": 14,
     "metadata": {},
     "output_type": "execute_result"
    }
   ],
   "source": [
    "def mean_ramet_height(table):\n",
    "    heights = table.column('Stem height')\n",
    "    return np.mean(heights)\n",
    "mean_ramet_height(small_data)"
   ]
  },
  {
   "cell_type": "code",
   "execution_count": 33,
   "metadata": {},
   "outputs": [],
   "source": [
    "def classify_height(benchmark):\n",
    "    def classify_help(number):\n",
    "        if (number > benchmark):\n",
    "            return 'tall'\n",
    "        else:\n",
    "            return 'short'\n",
    "    return classify_help"
   ]
  },
  {
   "cell_type": "code",
   "execution_count": 35,
   "metadata": {},
   "outputs": [
    {
     "data": {
      "text/html": [
       "<div>\n",
       "<style scoped>\n",
       "    .dataframe tbody tr th:only-of-type {\n",
       "        vertical-align: middle;\n",
       "    }\n",
       "\n",
       "    .dataframe tbody tr th {\n",
       "        vertical-align: top;\n",
       "    }\n",
       "\n",
       "    .dataframe thead th {\n",
       "        text-align: right;\n",
       "    }\n",
       "</style>\n",
       "<table border=\"1\" class=\"dataframe\">\n",
       "  <thead>\n",
       "    <tr style=\"text-align: right;\">\n",
       "      <th></th>\n",
       "      <th>Coordinates</th>\n",
       "      <th>Exposure of S. caninervis</th>\n",
       "      <th>Stem height</th>\n",
       "      <th>Number of inflorescences</th>\n",
       "      <th>Sex (M,F,S)</th>\n",
       "      <th>Stem height classified by mean_ramet_height</th>\n",
       "    </tr>\n",
       "  </thead>\n",
       "  <tbody>\n",
       "    <tr>\n",
       "      <th>0</th>\n",
       "      <td>T1 30</td>\n",
       "      <td>I</td>\n",
       "      <td>2.9</td>\n",
       "      <td>0.0</td>\n",
       "      <td>S</td>\n",
       "      <td>tall</td>\n",
       "    </tr>\n",
       "    <tr>\n",
       "      <th>1</th>\n",
       "      <td>T1 30</td>\n",
       "      <td>I</td>\n",
       "      <td>1.7</td>\n",
       "      <td>0.0</td>\n",
       "      <td>S</td>\n",
       "      <td>short</td>\n",
       "    </tr>\n",
       "    <tr>\n",
       "      <th>2</th>\n",
       "      <td>T1 30</td>\n",
       "      <td>I</td>\n",
       "      <td>1.5</td>\n",
       "      <td>0.0</td>\n",
       "      <td>S</td>\n",
       "      <td>short</td>\n",
       "    </tr>\n",
       "    <tr>\n",
       "      <th>3</th>\n",
       "      <td>T1 30</td>\n",
       "      <td>I</td>\n",
       "      <td>2.0</td>\n",
       "      <td>0.0</td>\n",
       "      <td>S</td>\n",
       "      <td>tall</td>\n",
       "    </tr>\n",
       "    <tr>\n",
       "      <th>4</th>\n",
       "      <td>T1 30</td>\n",
       "      <td>I</td>\n",
       "      <td>2.9</td>\n",
       "      <td>0.0</td>\n",
       "      <td>S</td>\n",
       "      <td>tall</td>\n",
       "    </tr>\n",
       "  </tbody>\n",
       "</table>\n",
       "</div>"
      ],
      "text/plain": [
       "  Coordinates Exposure of S. caninervis  Stem height  \\\n",
       "0       T1 30                         I          2.9   \n",
       "1       T1 30                         I          1.7   \n",
       "2       T1 30                         I          1.5   \n",
       "3       T1 30                         I          2.0   \n",
       "4       T1 30                         I          2.9   \n",
       "\n",
       "   Number of inflorescences Sex (M,F,S)  \\\n",
       "0                       0.0           S   \n",
       "1                       0.0           S   \n",
       "2                       0.0           S   \n",
       "3                       0.0           S   \n",
       "4                       0.0           S   \n",
       "\n",
       "  Stem height classified by mean_ramet_height  \n",
       "0                                        tall  \n",
       "1                                       short  \n",
       "2                                       short  \n",
       "3                                        tall  \n",
       "4                                        tall  "
      ]
     },
     "execution_count": 35,
     "metadata": {},
     "output_type": "execute_result"
    }
   ],
   "source": [
    "def classify_by_factor(table, col, func):\n",
    "    benchmark = func(table)\n",
    "    labeler = classify(benchmark)\n",
    "    data = table.apply(labeler, col)\n",
    "    col_label = col + ' classified by ' + func.__name__\n",
    "    return table.with_column(col_label, data)\n",
    "pre_contingency = classify_by_factor(small_data, 'Stem height', mean_ramet_height).to_df()\n",
    "pre_contingency.head()"
   ]
  },
  {
   "cell_type": "code",
   "execution_count": 24,
   "metadata": {},
   "outputs": [
    {
     "data": {
      "text/html": [
       "<div>\n",
       "<style scoped>\n",
       "    .dataframe tbody tr th:only-of-type {\n",
       "        vertical-align: middle;\n",
       "    }\n",
       "\n",
       "    .dataframe tbody tr th {\n",
       "        vertical-align: top;\n",
       "    }\n",
       "\n",
       "    .dataframe thead th {\n",
       "        text-align: right;\n",
       "    }\n",
       "</style>\n",
       "<table border=\"1\" class=\"dataframe\">\n",
       "  <thead>\n",
       "    <tr style=\"text-align: right;\">\n",
       "      <th></th>\n",
       "      <th>Sex (M,F,S)</th>\n",
       "      <th>Expressing sex</th>\n",
       "      <th>Not expressing sex</th>\n",
       "    </tr>\n",
       "    <tr>\n",
       "      <th>Exposure of S. caninervis</th>\n",
       "      <th>Stem height classified by mean_ramet_height</th>\n",
       "      <th></th>\n",
       "      <th></th>\n",
       "    </tr>\n",
       "  </thead>\n",
       "  <tbody>\n",
       "    <tr>\n",
       "      <th rowspan=\"2\" valign=\"top\">I</th>\n",
       "      <th>short</th>\n",
       "      <td>14</td>\n",
       "      <td>193</td>\n",
       "    </tr>\n",
       "    <tr>\n",
       "      <th>tall</th>\n",
       "      <td>50</td>\n",
       "      <td>124</td>\n",
       "    </tr>\n",
       "    <tr>\n",
       "      <th rowspan=\"2\" valign=\"top\">O</th>\n",
       "      <th>short</th>\n",
       "      <td>2</td>\n",
       "      <td>205</td>\n",
       "    </tr>\n",
       "    <tr>\n",
       "      <th>tall</th>\n",
       "      <td>28</td>\n",
       "      <td>95</td>\n",
       "    </tr>\n",
       "    <tr>\n",
       "      <th rowspan=\"2\" valign=\"top\">U</th>\n",
       "      <th>short</th>\n",
       "      <td>6</td>\n",
       "      <td>52</td>\n",
       "    </tr>\n",
       "    <tr>\n",
       "      <th>tall</th>\n",
       "      <td>32</td>\n",
       "      <td>70</td>\n",
       "    </tr>\n",
       "    <tr>\n",
       "      <th rowspan=\"2\" valign=\"top\">nan</th>\n",
       "      <th>short</th>\n",
       "      <td>0</td>\n",
       "      <td>4</td>\n",
       "    </tr>\n",
       "    <tr>\n",
       "      <th>tall</th>\n",
       "      <td>5</td>\n",
       "      <td>10</td>\n",
       "    </tr>\n",
       "  </tbody>\n",
       "</table>\n",
       "</div>"
      ],
      "text/plain": [
       "Sex (M,F,S)                                                            Expressing sex  \\\n",
       "Exposure of S. caninervis Stem height classified by mean_ramet_height                   \n",
       "I                         short                                                    14   \n",
       "                          tall                                                     50   \n",
       "O                         short                                                     2   \n",
       "                          tall                                                     28   \n",
       "U                         short                                                     6   \n",
       "                          tall                                                     32   \n",
       "nan                       short                                                     0   \n",
       "                          tall                                                      5   \n",
       "\n",
       "Sex (M,F,S)                                                            Not expressing sex  \n",
       "Exposure of S. caninervis Stem height classified by mean_ramet_height                      \n",
       "I                         short                                                       193  \n",
       "                          tall                                                        124  \n",
       "O                         short                                                       205  \n",
       "                          tall                                                         95  \n",
       "U                         short                                                        52  \n",
       "                          tall                                                         70  \n",
       "nan                       short                                                         4  \n",
       "                          tall                                                         10  "
      ]
     },
     "execution_count": 24,
     "metadata": {},
     "output_type": "execute_result"
    }
   ],
   "source": [
    "contingency = pd.crosstab([pre_contingency['Exposure of S. caninervis'] , pre_contingency['Stem height classified by mean_ramet_height']], pre_contingency['Sex (M,F,S)'], margins = False)\n",
    "contingency['Expressing sex'] = contingency['F'] + contingency['M']\n",
    "contingency['Not expressing sex'] = contingency['S']\n",
    "contingency = contingency.drop(columns = ['M','F','S'])\n",
    "contingency"
   ]
  },
  {
   "cell_type": "code",
   "execution_count": 25,
   "metadata": {
    "scrolled": false
   },
   "outputs": [
    {
     "data": {
      "text/plain": [
       "(99.40153104419883,\n",
       " 1.4338726900120577e-18,\n",
       " 7,\n",
       " array([[ 31.86404494, 175.13595506],\n",
       "        [ 26.78426966, 147.21573034],\n",
       "        [ 31.86404494, 175.13595506],\n",
       "        [ 18.93370787, 104.06629213],\n",
       "        [  8.92808989,  49.07191011],\n",
       "        [ 15.7011236 ,  86.2988764 ],\n",
       "        [  0.61573034,   3.38426966],\n",
       "        [  2.30898876,  12.69101124]]))"
      ]
     },
     "execution_count": 25,
     "metadata": {},
     "output_type": "execute_result"
    }
   ],
   "source": [
    "chi2, p_val, dof, expected = chi2_contingency(contingency)\n",
    "(chi2, p_val, dof, expected)"
   ]
  },
  {
   "cell_type": "code",
   "execution_count": 41,
   "metadata": {
    "scrolled": true
   },
   "outputs": [
    {
     "data": {
      "text/plain": [
       "(99.40153104419883,\n",
       " 1.4338726900120577e-18,\n",
       " 7,\n",
       " array([[ 31.86404494, 175.13595506],\n",
       "        [ 26.78426966, 147.21573034],\n",
       "        [ 31.86404494, 175.13595506],\n",
       "        [ 18.93370787, 104.06629213],\n",
       "        [  8.92808989,  49.07191011],\n",
       "        [ 15.7011236 ,  86.2988764 ],\n",
       "        [  0.61573034,   3.38426966],\n",
       "        [  2.30898876,  12.69101124]]))"
      ]
     },
     "execution_count": 41,
     "metadata": {},
     "output_type": "execute_result"
    }
   ],
   "source": [
    "def crosstab(table, label, func):\n",
    "    pre_contingency = classify_by_factor(table, label, func).to_df()\n",
    "    contingency = pd.crosstab([pre_contingency['Exposure of S. caninervis'] , pre_contingency[label + ' classified by ' + func.__name__]], pre_contingency['Sex (M,F,S)'], margins = False)\n",
    "    contingency['Expressing sex'] = contingency['F'] + contingency['M']\n",
    "    contingency['Not expressing sex'] = contingency['S']\n",
    "    contingency = contingency.drop(columns = ['M','F','S'])\n",
    "    return chi2_contingency(contingency)\n",
    "crosstab(small_data, 'Stem height', mean_ramet_height)"
   ]
  },
  {
   "cell_type": "code",
   "execution_count": 47,
   "metadata": {},
   "outputs": [],
   "source": [
    "labels_for_x2 = ['Stem height']"
   ]
  },
  {
   "cell_type": "code",
   "execution_count": 48,
   "metadata": {},
   "outputs": [],
   "source": [
    "funcs_for_x2 = [mean_ramet_height]"
   ]
  },
  {
   "cell_type": "code",
   "execution_count": 49,
   "metadata": {},
   "outputs": [],
   "source": [
    "label_func_map = dict(zip(labels_for_x2,funcs_for_x2))"
   ]
  },
  {
   "cell_type": "code",
   "execution_count": 50,
   "metadata": {},
   "outputs": [],
   "source": [
    "def table3(table):\n",
    "    for label,func in labels_func_map:\n",
    "        crosstab(table, label, func)"
   ]
  },
  {
   "cell_type": "markdown",
   "metadata": {},
   "source": [
    "***Making General Functions***"
   ]
  },
  {
   "cell_type": "code",
   "execution_count": 51,
   "metadata": {
    "scrolled": true
   },
   "outputs": [
    {
     "data": {
      "text/plain": [
       "['Coordinates',\n",
       " 'Exposure of S. caninervis',\n",
       " 'Stem height',\n",
       " 'Number of inflorescences',\n",
       " 'Sex (M,F,S)']"
      ]
     },
     "execution_count": 51,
     "metadata": {},
     "output_type": "execute_result"
    }
   ],
   "source": [
    "headers = list(small_data.labels)\n",
    "headers"
   ]
  },
  {
   "cell_type": "code",
   "execution_count": 52,
   "metadata": {},
   "outputs": [],
   "source": [
    "def bowker(table):\n",
    "    assert table.labels == small_data.labels, (\"Column headers must be as follows: \" + headers)\n",
    "    return table2(table), table3(table)"
   ]
  },
  {
   "cell_type": "code",
   "execution_count": 53,
   "metadata": {
    "scrolled": true
   },
   "outputs": [
    {
     "ename": "NameError",
     "evalue": "name 'labels_func_map' is not defined",
     "output_type": "error",
     "traceback": [
      "\u001b[0;31m---------------------------------------------------------------------------\u001b[0m",
      "\u001b[0;31mNameError\u001b[0m                                 Traceback (most recent call last)",
      "\u001b[0;32m<ipython-input-53-23e1b9607a20>\u001b[0m in \u001b[0;36m<module>\u001b[0;34m\u001b[0m\n\u001b[0;32m----> 1\u001b[0;31m \u001b[0mbowker\u001b[0m\u001b[0;34m(\u001b[0m\u001b[0msmall_data\u001b[0m\u001b[0;34m)\u001b[0m\u001b[0;34m\u001b[0m\u001b[0;34m\u001b[0m\u001b[0m\n\u001b[0m",
      "\u001b[0;32m<ipython-input-52-6fb3b23041da>\u001b[0m in \u001b[0;36mbowker\u001b[0;34m(table)\u001b[0m\n\u001b[1;32m      1\u001b[0m \u001b[0;32mdef\u001b[0m \u001b[0mbowker\u001b[0m\u001b[0;34m(\u001b[0m\u001b[0mtable\u001b[0m\u001b[0;34m)\u001b[0m\u001b[0;34m:\u001b[0m\u001b[0;34m\u001b[0m\u001b[0;34m\u001b[0m\u001b[0m\n\u001b[1;32m      2\u001b[0m     \u001b[0;32massert\u001b[0m \u001b[0mtable\u001b[0m\u001b[0;34m.\u001b[0m\u001b[0mlabels\u001b[0m \u001b[0;34m==\u001b[0m \u001b[0msmall_data\u001b[0m\u001b[0;34m.\u001b[0m\u001b[0mlabels\u001b[0m\u001b[0;34m,\u001b[0m \u001b[0;34m(\u001b[0m\u001b[0;34m\"Column headers must be as follows: \"\u001b[0m \u001b[0;34m+\u001b[0m \u001b[0mheaders\u001b[0m\u001b[0;34m)\u001b[0m\u001b[0;34m\u001b[0m\u001b[0;34m\u001b[0m\u001b[0m\n\u001b[0;32m----> 3\u001b[0;31m     \u001b[0;32mreturn\u001b[0m \u001b[0mtable2\u001b[0m\u001b[0;34m(\u001b[0m\u001b[0mtable\u001b[0m\u001b[0;34m)\u001b[0m\u001b[0;34m,\u001b[0m \u001b[0mtable3\u001b[0m\u001b[0;34m(\u001b[0m\u001b[0mtable\u001b[0m\u001b[0;34m)\u001b[0m\u001b[0;34m\u001b[0m\u001b[0;34m\u001b[0m\u001b[0m\n\u001b[0m",
      "\u001b[0;32m<ipython-input-50-c7a58ac8af05>\u001b[0m in \u001b[0;36mtable3\u001b[0;34m(table)\u001b[0m\n\u001b[1;32m      1\u001b[0m \u001b[0;32mdef\u001b[0m \u001b[0mtable3\u001b[0m\u001b[0;34m(\u001b[0m\u001b[0mtable\u001b[0m\u001b[0;34m)\u001b[0m\u001b[0;34m:\u001b[0m\u001b[0;34m\u001b[0m\u001b[0;34m\u001b[0m\u001b[0m\n\u001b[0;32m----> 2\u001b[0;31m     \u001b[0;32mfor\u001b[0m \u001b[0mlabel\u001b[0m\u001b[0;34m,\u001b[0m\u001b[0mfunc\u001b[0m \u001b[0;32min\u001b[0m \u001b[0mlabels_func_map\u001b[0m\u001b[0;34m:\u001b[0m\u001b[0;34m\u001b[0m\u001b[0;34m\u001b[0m\u001b[0m\n\u001b[0m\u001b[1;32m      3\u001b[0m         \u001b[0mcrosstab\u001b[0m\u001b[0;34m(\u001b[0m\u001b[0mtable\u001b[0m\u001b[0;34m,\u001b[0m \u001b[0mlabel\u001b[0m\u001b[0;34m,\u001b[0m \u001b[0mfunc\u001b[0m\u001b[0;34m)\u001b[0m\u001b[0;34m\u001b[0m\u001b[0;34m\u001b[0m\u001b[0m\n",
      "\u001b[0;31mNameError\u001b[0m: name 'labels_func_map' is not defined"
     ]
    }
   ],
   "source": [
    "bowker(small_data)"
   ]
  },
  {
   "cell_type": "code",
   "execution_count": 56,
   "metadata": {},
   "outputs": [
    {
     "data": {
      "text/html": [
       "<table border=\"1\" class=\"dataframe\">\n",
       "    <thead>\n",
       "        <tr>\n",
       "            <th>Coordinates</th> <th>Exposure of S. caninervis</th> <th>Stem height</th> <th>Number of inflorescences</th> <th>Sex (M,F,S)</th>\n",
       "        </tr>\n",
       "    </thead>\n",
       "    <tbody>\n",
       "        <tr>\n",
       "            <td>T1 30      </td> <td>I                        </td> <td>2.9        </td> <td>0                       </td> <td>S          </td>\n",
       "        </tr>\n",
       "        <tr>\n",
       "            <td>T1 30      </td> <td>I                        </td> <td>1.7        </td> <td>0                       </td> <td>S          </td>\n",
       "        </tr>\n",
       "        <tr>\n",
       "            <td>T1 30      </td> <td>I                        </td> <td>1.5        </td> <td>0                       </td> <td>S          </td>\n",
       "        </tr>\n",
       "        <tr>\n",
       "            <td>T1 30      </td> <td>I                        </td> <td>2          </td> <td>0                       </td> <td>S          </td>\n",
       "        </tr>\n",
       "        <tr>\n",
       "            <td>T1 30      </td> <td>I                        </td> <td>2.9        </td> <td>0                       </td> <td>S          </td>\n",
       "        </tr>\n",
       "        <tr>\n",
       "            <td>T1 30      </td> <td>I                        </td> <td>3.1        </td> <td>1                       </td> <td>F          </td>\n",
       "        </tr>\n",
       "        <tr>\n",
       "            <td>T1 30      </td> <td>I                        </td> <td>2.1        </td> <td>0                       </td> <td>S          </td>\n",
       "        </tr>\n",
       "        <tr>\n",
       "            <td>T1 30      </td> <td>I                        </td> <td>2.8        </td> <td>0                       </td> <td>S          </td>\n",
       "        </tr>\n",
       "        <tr>\n",
       "            <td>T1 30      </td> <td>I                        </td> <td>2          </td> <td>0                       </td> <td>S          </td>\n",
       "        </tr>\n",
       "        <tr>\n",
       "            <td>T1 30      </td> <td>I                        </td> <td>2          </td> <td>0                       </td> <td>S          </td>\n",
       "        </tr>\n",
       "    </tbody>\n",
       "</table>\n",
       "<p>... (880 rows omitted)</p>"
      ],
      "text/plain": [
       "Coordinates | Exposure of S. caninervis | Stem height | Number of inflorescences | Sex (M,F,S)\n",
       "T1 30       | I                         | 2.9         | 0                        | S\n",
       "T1 30       | I                         | 1.7         | 0                        | S\n",
       "T1 30       | I                         | 1.5         | 0                        | S\n",
       "T1 30       | I                         | 2           | 0                        | S\n",
       "T1 30       | I                         | 2.9         | 0                        | S\n",
       "T1 30       | I                         | 3.1         | 1                        | F\n",
       "T1 30       | I                         | 2.1         | 0                        | S\n",
       "T1 30       | I                         | 2.8         | 0                        | S\n",
       "T1 30       | I                         | 2           | 0                        | S\n",
       "T1 30       | I                         | 2           | 0                        | S\n",
       "... (880 rows omitted)"
      ]
     },
     "execution_count": 56,
     "metadata": {},
     "output_type": "execute_result"
    }
   ],
   "source": [
    "small_data"
   ]
  },
  {
   "cell_type": "code",
   "execution_count": 74,
   "metadata": {
    "scrolled": false
   },
   "outputs": [
    {
     "data": {
      "text/plain": [
       "(0.3008562793583733, -2.740863092043355e-16)"
      ]
     },
     "execution_count": 74,
     "metadata": {},
     "output_type": "execute_result"
    },
    {
     "data": {
      "image/png": "[encoded data removed]",
      "text/plain": [
       "<Figure size 432x288 with 1 Axes>"
      ]
     },
     "metadata": {},
     "output_type": "display_data"
    },
    {
     "data": {
      "image/png": "[encoded data removed]",
      "text/plain": [
       "<Figure size 360x360 with 1 Axes>"
      ]
     },
     "metadata": {},
     "output_type": "display_data"
    }
   ],
   "source": [
    "#distribution of stem height for females\n",
    "small_data.where('Sex (M,F,S)', 'F').hist('Stem height')\n",
    "small_data.where('Sex (M,F,S)', 'F').scatter('Number of inflorescences','Stem height')\n",
    "scatter_fit(small_data.where('Sex (M,F,S)', 'F'),'Number of inflorescences','Stem height')\n",
    "correlation(small_data.where('Sex (M,F,S)', 'F'),'Number of inflorescences','Stem height'), np.mean(residual(small_data.where('Sex (M,F,S)', 'F'),'Number of inflorescences','Stem height'))"
   ]
  },
  {
   "cell_type": "code",
   "execution_count": null,
   "metadata": {},
   "outputs": [],
   "source": []
  }
 ],
 "metadata": {
  "kernelspec": {
   "display_name": "Python 3",
   "language": "python",
   "name": "python3"
  },
  "language_info": {
   "codemirror_mode": {
    "name": "ipython",
    "version": 3
   },
   "file_extension": ".py",
   "mimetype": "text/x-python",
   "name": "python",
   "nbconvert_exporter": "python",
   "pygments_lexer": "ipython3",
   "version": "3.7.1"
  }
 },
 "nbformat": 4,
 "nbformat_minor": 2
}
